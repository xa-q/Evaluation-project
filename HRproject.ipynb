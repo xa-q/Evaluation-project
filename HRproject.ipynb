{
 "cells": [
  {
   "cell_type": "code",
   "execution_count": 168,
   "id": "0b9c5dd9",
   "metadata": {},
   "outputs": [],
   "source": [
    "import pandas as pd\n",
    "import numpy as np\n",
    "import matplotlib.pyplot as plt\n",
    "import seaborn as sns\n",
    "import warnings\n",
    "warnings.filterwarnings('ignore')\n",
    "%matplotlib inline"
   ]
  },
  {
   "cell_type": "code",
   "execution_count": 170,
   "id": "d029dfde",
   "metadata": {},
   "outputs": [],
   "source": [
    "df=pd.read_csv(\"Hr.csv\")"
   ]
  },
  {
   "cell_type": "code",
   "execution_count": 171,
   "id": "c03304d4",
   "metadata": {},
   "outputs": [
    {
     "data": {
      "text/html": [
       "<div>\n",
       "<style scoped>\n",
       "    .dataframe tbody tr th:only-of-type {\n",
       "        vertical-align: middle;\n",
       "    }\n",
       "\n",
       "    .dataframe tbody tr th {\n",
       "        vertical-align: top;\n",
       "    }\n",
       "\n",
       "    .dataframe thead th {\n",
       "        text-align: right;\n",
       "    }\n",
       "</style>\n",
       "<table border=\"1\" class=\"dataframe\">\n",
       "  <thead>\n",
       "    <tr style=\"text-align: right;\">\n",
       "      <th></th>\n",
       "      <th>Age</th>\n",
       "      <th>Attrition</th>\n",
       "      <th>BusinessTravel</th>\n",
       "      <th>DailyRate</th>\n",
       "      <th>Department</th>\n",
       "      <th>DistanceFromHome</th>\n",
       "      <th>Education</th>\n",
       "      <th>EducationField</th>\n",
       "      <th>EmployeeCount</th>\n",
       "      <th>EmployeeNumber</th>\n",
       "      <th>...</th>\n",
       "      <th>RelationshipSatisfaction</th>\n",
       "      <th>StandardHours</th>\n",
       "      <th>StockOptionLevel</th>\n",
       "      <th>TotalWorkingYears</th>\n",
       "      <th>TrainingTimesLastYear</th>\n",
       "      <th>WorkLifeBalance</th>\n",
       "      <th>YearsAtCompany</th>\n",
       "      <th>YearsInCurrentRole</th>\n",
       "      <th>YearsSinceLastPromotion</th>\n",
       "      <th>YearsWithCurrManager</th>\n",
       "    </tr>\n",
       "  </thead>\n",
       "  <tbody>\n",
       "    <tr>\n",
       "      <th>0</th>\n",
       "      <td>41</td>\n",
       "      <td>Yes</td>\n",
       "      <td>Travel_Rarely</td>\n",
       "      <td>1102</td>\n",
       "      <td>Sales</td>\n",
       "      <td>1</td>\n",
       "      <td>2</td>\n",
       "      <td>Life Sciences</td>\n",
       "      <td>1</td>\n",
       "      <td>1</td>\n",
       "      <td>...</td>\n",
       "      <td>1</td>\n",
       "      <td>80</td>\n",
       "      <td>0</td>\n",
       "      <td>8</td>\n",
       "      <td>0</td>\n",
       "      <td>1</td>\n",
       "      <td>6</td>\n",
       "      <td>4</td>\n",
       "      <td>0</td>\n",
       "      <td>5</td>\n",
       "    </tr>\n",
       "    <tr>\n",
       "      <th>1</th>\n",
       "      <td>49</td>\n",
       "      <td>No</td>\n",
       "      <td>Travel_Frequently</td>\n",
       "      <td>279</td>\n",
       "      <td>Research &amp; Development</td>\n",
       "      <td>8</td>\n",
       "      <td>1</td>\n",
       "      <td>Life Sciences</td>\n",
       "      <td>1</td>\n",
       "      <td>2</td>\n",
       "      <td>...</td>\n",
       "      <td>4</td>\n",
       "      <td>80</td>\n",
       "      <td>1</td>\n",
       "      <td>10</td>\n",
       "      <td>3</td>\n",
       "      <td>3</td>\n",
       "      <td>10</td>\n",
       "      <td>7</td>\n",
       "      <td>1</td>\n",
       "      <td>7</td>\n",
       "    </tr>\n",
       "    <tr>\n",
       "      <th>2</th>\n",
       "      <td>37</td>\n",
       "      <td>Yes</td>\n",
       "      <td>Travel_Rarely</td>\n",
       "      <td>1373</td>\n",
       "      <td>Research &amp; Development</td>\n",
       "      <td>2</td>\n",
       "      <td>2</td>\n",
       "      <td>Other</td>\n",
       "      <td>1</td>\n",
       "      <td>4</td>\n",
       "      <td>...</td>\n",
       "      <td>2</td>\n",
       "      <td>80</td>\n",
       "      <td>0</td>\n",
       "      <td>7</td>\n",
       "      <td>3</td>\n",
       "      <td>3</td>\n",
       "      <td>0</td>\n",
       "      <td>0</td>\n",
       "      <td>0</td>\n",
       "      <td>0</td>\n",
       "    </tr>\n",
       "    <tr>\n",
       "      <th>3</th>\n",
       "      <td>33</td>\n",
       "      <td>No</td>\n",
       "      <td>Travel_Frequently</td>\n",
       "      <td>1392</td>\n",
       "      <td>Research &amp; Development</td>\n",
       "      <td>3</td>\n",
       "      <td>4</td>\n",
       "      <td>Life Sciences</td>\n",
       "      <td>1</td>\n",
       "      <td>5</td>\n",
       "      <td>...</td>\n",
       "      <td>3</td>\n",
       "      <td>80</td>\n",
       "      <td>0</td>\n",
       "      <td>8</td>\n",
       "      <td>3</td>\n",
       "      <td>3</td>\n",
       "      <td>8</td>\n",
       "      <td>7</td>\n",
       "      <td>3</td>\n",
       "      <td>0</td>\n",
       "    </tr>\n",
       "    <tr>\n",
       "      <th>4</th>\n",
       "      <td>27</td>\n",
       "      <td>No</td>\n",
       "      <td>Travel_Rarely</td>\n",
       "      <td>591</td>\n",
       "      <td>Research &amp; Development</td>\n",
       "      <td>2</td>\n",
       "      <td>1</td>\n",
       "      <td>Medical</td>\n",
       "      <td>1</td>\n",
       "      <td>7</td>\n",
       "      <td>...</td>\n",
       "      <td>4</td>\n",
       "      <td>80</td>\n",
       "      <td>1</td>\n",
       "      <td>6</td>\n",
       "      <td>3</td>\n",
       "      <td>3</td>\n",
       "      <td>2</td>\n",
       "      <td>2</td>\n",
       "      <td>2</td>\n",
       "      <td>2</td>\n",
       "    </tr>\n",
       "  </tbody>\n",
       "</table>\n",
       "<p>5 rows × 35 columns</p>\n",
       "</div>"
      ],
      "text/plain": [
       "   Age Attrition     BusinessTravel  DailyRate              Department  \\\n",
       "0   41       Yes      Travel_Rarely       1102                   Sales   \n",
       "1   49        No  Travel_Frequently        279  Research & Development   \n",
       "2   37       Yes      Travel_Rarely       1373  Research & Development   \n",
       "3   33        No  Travel_Frequently       1392  Research & Development   \n",
       "4   27        No      Travel_Rarely        591  Research & Development   \n",
       "\n",
       "   DistanceFromHome  Education EducationField  EmployeeCount  EmployeeNumber  \\\n",
       "0                 1          2  Life Sciences              1               1   \n",
       "1                 8          1  Life Sciences              1               2   \n",
       "2                 2          2          Other              1               4   \n",
       "3                 3          4  Life Sciences              1               5   \n",
       "4                 2          1        Medical              1               7   \n",
       "\n",
       "   ...  RelationshipSatisfaction StandardHours  StockOptionLevel  \\\n",
       "0  ...                         1            80                 0   \n",
       "1  ...                         4            80                 1   \n",
       "2  ...                         2            80                 0   \n",
       "3  ...                         3            80                 0   \n",
       "4  ...                         4            80                 1   \n",
       "\n",
       "   TotalWorkingYears  TrainingTimesLastYear WorkLifeBalance  YearsAtCompany  \\\n",
       "0                  8                      0               1               6   \n",
       "1                 10                      3               3              10   \n",
       "2                  7                      3               3               0   \n",
       "3                  8                      3               3               8   \n",
       "4                  6                      3               3               2   \n",
       "\n",
       "  YearsInCurrentRole  YearsSinceLastPromotion  YearsWithCurrManager  \n",
       "0                  4                        0                     5  \n",
       "1                  7                        1                     7  \n",
       "2                  0                        0                     0  \n",
       "3                  7                        3                     0  \n",
       "4                  2                        2                     2  \n",
       "\n",
       "[5 rows x 35 columns]"
      ]
     },
     "execution_count": 171,
     "metadata": {},
     "output_type": "execute_result"
    }
   ],
   "source": [
    "df.head()"
   ]
  },
  {
   "cell_type": "code",
   "execution_count": 173,
   "id": "00676258",
   "metadata": {},
   "outputs": [
    {
     "data": {
      "text/plain": [
       "(1470, 35)"
      ]
     },
     "execution_count": 173,
     "metadata": {},
     "output_type": "execute_result"
    }
   ],
   "source": [
    "df.shape"
   ]
  },
  {
   "cell_type": "code",
   "execution_count": 174,
   "id": "c65d776b",
   "metadata": {},
   "outputs": [
    {
     "data": {
      "text/plain": [
       "Index(['Age', 'Attrition', 'BusinessTravel', 'DailyRate', 'Department',\n",
       "       'DistanceFromHome', 'Education', 'EducationField', 'EmployeeCount',\n",
       "       'EmployeeNumber', 'EnvironmentSatisfaction', 'Gender', 'HourlyRate',\n",
       "       'JobInvolvement', 'JobLevel', 'JobRole', 'JobSatisfaction',\n",
       "       'MaritalStatus', 'MonthlyIncome', 'MonthlyRate', 'NumCompaniesWorked',\n",
       "       'Over18', 'OverTime', 'PercentSalaryHike', 'PerformanceRating',\n",
       "       'RelationshipSatisfaction', 'StandardHours', 'StockOptionLevel',\n",
       "       'TotalWorkingYears', 'TrainingTimesLastYear', 'WorkLifeBalance',\n",
       "       'YearsAtCompany', 'YearsInCurrentRole', 'YearsSinceLastPromotion',\n",
       "       'YearsWithCurrManager'],\n",
       "      dtype='object')"
      ]
     },
     "execution_count": 174,
     "metadata": {},
     "output_type": "execute_result"
    }
   ],
   "source": [
    "df.columns"
   ]
  },
  {
   "cell_type": "code",
   "execution_count": 175,
   "id": "717f9c98",
   "metadata": {},
   "outputs": [
    {
     "data": {
      "text/plain": [
       "Age                          int64\n",
       "Attrition                   object\n",
       "BusinessTravel              object\n",
       "DailyRate                    int64\n",
       "Department                  object\n",
       "DistanceFromHome             int64\n",
       "Education                    int64\n",
       "EducationField              object\n",
       "EmployeeCount                int64\n",
       "EmployeeNumber               int64\n",
       "EnvironmentSatisfaction      int64\n",
       "Gender                      object\n",
       "HourlyRate                   int64\n",
       "JobInvolvement               int64\n",
       "JobLevel                     int64\n",
       "JobRole                     object\n",
       "JobSatisfaction              int64\n",
       "MaritalStatus               object\n",
       "MonthlyIncome                int64\n",
       "MonthlyRate                  int64\n",
       "NumCompaniesWorked           int64\n",
       "Over18                      object\n",
       "OverTime                    object\n",
       "PercentSalaryHike            int64\n",
       "PerformanceRating            int64\n",
       "RelationshipSatisfaction     int64\n",
       "StandardHours                int64\n",
       "StockOptionLevel             int64\n",
       "TotalWorkingYears            int64\n",
       "TrainingTimesLastYear        int64\n",
       "WorkLifeBalance              int64\n",
       "YearsAtCompany               int64\n",
       "YearsInCurrentRole           int64\n",
       "YearsSinceLastPromotion      int64\n",
       "YearsWithCurrManager         int64\n",
       "dtype: object"
      ]
     },
     "execution_count": 175,
     "metadata": {},
     "output_type": "execute_result"
    }
   ],
   "source": [
    "df.dtypes"
   ]
  },
  {
   "cell_type": "code",
   "execution_count": 176,
   "id": "84115f13",
   "metadata": {},
   "outputs": [
    {
     "name": "stdout",
     "output_type": "stream",
     "text": [
      "<class 'pandas.core.frame.DataFrame'>\n",
      "RangeIndex: 1470 entries, 0 to 1469\n",
      "Data columns (total 35 columns):\n",
      " #   Column                    Non-Null Count  Dtype \n",
      "---  ------                    --------------  ----- \n",
      " 0   Age                       1470 non-null   int64 \n",
      " 1   Attrition                 1470 non-null   object\n",
      " 2   BusinessTravel            1470 non-null   object\n",
      " 3   DailyRate                 1470 non-null   int64 \n",
      " 4   Department                1470 non-null   object\n",
      " 5   DistanceFromHome          1470 non-null   int64 \n",
      " 6   Education                 1470 non-null   int64 \n",
      " 7   EducationField            1470 non-null   object\n",
      " 8   EmployeeCount             1470 non-null   int64 \n",
      " 9   EmployeeNumber            1470 non-null   int64 \n",
      " 10  EnvironmentSatisfaction   1470 non-null   int64 \n",
      " 11  Gender                    1470 non-null   object\n",
      " 12  HourlyRate                1470 non-null   int64 \n",
      " 13  JobInvolvement            1470 non-null   int64 \n",
      " 14  JobLevel                  1470 non-null   int64 \n",
      " 15  JobRole                   1470 non-null   object\n",
      " 16  JobSatisfaction           1470 non-null   int64 \n",
      " 17  MaritalStatus             1470 non-null   object\n",
      " 18  MonthlyIncome             1470 non-null   int64 \n",
      " 19  MonthlyRate               1470 non-null   int64 \n",
      " 20  NumCompaniesWorked        1470 non-null   int64 \n",
      " 21  Over18                    1470 non-null   object\n",
      " 22  OverTime                  1470 non-null   object\n",
      " 23  PercentSalaryHike         1470 non-null   int64 \n",
      " 24  PerformanceRating         1470 non-null   int64 \n",
      " 25  RelationshipSatisfaction  1470 non-null   int64 \n",
      " 26  StandardHours             1470 non-null   int64 \n",
      " 27  StockOptionLevel          1470 non-null   int64 \n",
      " 28  TotalWorkingYears         1470 non-null   int64 \n",
      " 29  TrainingTimesLastYear     1470 non-null   int64 \n",
      " 30  WorkLifeBalance           1470 non-null   int64 \n",
      " 31  YearsAtCompany            1470 non-null   int64 \n",
      " 32  YearsInCurrentRole        1470 non-null   int64 \n",
      " 33  YearsSinceLastPromotion   1470 non-null   int64 \n",
      " 34  YearsWithCurrManager      1470 non-null   int64 \n",
      "dtypes: int64(26), object(9)\n",
      "memory usage: 402.1+ KB\n"
     ]
    }
   ],
   "source": [
    "df.info()"
   ]
  },
  {
   "cell_type": "code",
   "execution_count": 178,
   "id": "7cdabaa4",
   "metadata": {},
   "outputs": [
    {
     "data": {
      "text/plain": [
       "Age                         0\n",
       "Attrition                   0\n",
       "BusinessTravel              0\n",
       "DailyRate                   0\n",
       "Department                  0\n",
       "DistanceFromHome            0\n",
       "Education                   0\n",
       "EducationField              0\n",
       "EmployeeCount               0\n",
       "EmployeeNumber              0\n",
       "EnvironmentSatisfaction     0\n",
       "Gender                      0\n",
       "HourlyRate                  0\n",
       "JobInvolvement              0\n",
       "JobLevel                    0\n",
       "JobRole                     0\n",
       "JobSatisfaction             0\n",
       "MaritalStatus               0\n",
       "MonthlyIncome               0\n",
       "MonthlyRate                 0\n",
       "NumCompaniesWorked          0\n",
       "Over18                      0\n",
       "OverTime                    0\n",
       "PercentSalaryHike           0\n",
       "PerformanceRating           0\n",
       "RelationshipSatisfaction    0\n",
       "StandardHours               0\n",
       "StockOptionLevel            0\n",
       "TotalWorkingYears           0\n",
       "TrainingTimesLastYear       0\n",
       "WorkLifeBalance             0\n",
       "YearsAtCompany              0\n",
       "YearsInCurrentRole          0\n",
       "YearsSinceLastPromotion     0\n",
       "YearsWithCurrManager        0\n",
       "dtype: int64"
      ]
     },
     "execution_count": 178,
     "metadata": {},
     "output_type": "execute_result"
    }
   ],
   "source": [
    "df.isnull().sum()"
   ]
  },
  {
   "cell_type": "code",
   "execution_count": 180,
   "id": "a6dd096d",
   "metadata": {},
   "outputs": [
    {
     "data": {
      "text/plain": [
       "<AxesSubplot:>"
      ]
     },
     "execution_count": 180,
     "metadata": {},
     "output_type": "execute_result"
    },
    {
     "data": {
      "image/png": "[encoded data removed]",
      "text/plain": [
       "<Figure size 432x288 with 2 Axes>"
      ]
     },
     "metadata": {
      "needs_background": "light"
     },
     "output_type": "display_data"
    }
   ],
   "source": [
    "sns.heatmap(df.isnull())"
   ]
  },
  {
   "cell_type": "code",
   "execution_count": 181,
   "id": "4f7990d8",
   "metadata": {},
   "outputs": [
    {
     "data": {
      "text/plain": [
       "Index(['Age', 'Attrition', 'BusinessTravel', 'DailyRate', 'Department',\n",
       "       'DistanceFromHome', 'Education', 'EducationField', 'EmployeeCount',\n",
       "       'EmployeeNumber', 'EnvironmentSatisfaction', 'Gender', 'HourlyRate',\n",
       "       'JobInvolvement', 'JobLevel', 'JobRole', 'JobSatisfaction',\n",
       "       'MaritalStatus', 'MonthlyIncome', 'MonthlyRate', 'NumCompaniesWorked',\n",
       "       'Over18', 'OverTime', 'PercentSalaryHike', 'PerformanceRating',\n",
       "       'RelationshipSatisfaction', 'StandardHours', 'StockOptionLevel',\n",
       "       'TotalWorkingYears', 'TrainingTimesLastYear', 'WorkLifeBalance',\n",
       "       'YearsAtCompany', 'YearsInCurrentRole', 'YearsSinceLastPromotion',\n",
       "       'YearsWithCurrManager'],\n",
       "      dtype='object')"
      ]
     },
     "execution_count": 181,
     "metadata": {},
     "output_type": "execute_result"
    }
   ],
   "source": [
    "df.columns"
   ]
  },
  {
   "cell_type": "code",
   "execution_count": 182,
   "id": "7df633fd",
   "metadata": {},
   "outputs": [
    {
     "data": {
      "text/plain": [
       "<bound method Series.unique of 0       1\n",
       "1       1\n",
       "2       1\n",
       "3       1\n",
       "4       1\n",
       "       ..\n",
       "1465    1\n",
       "1466    1\n",
       "1467    1\n",
       "1468    1\n",
       "1469    1\n",
       "Name: EmployeeCount, Length: 1470, dtype: int64>"
      ]
     },
     "execution_count": 182,
     "metadata": {},
     "output_type": "execute_result"
    }
   ],
   "source": [
    "df['EmployeeCount'].unique"
   ]
  },
  {
   "cell_type": "code",
   "execution_count": 183,
   "id": "102f16bc",
   "metadata": {},
   "outputs": [],
   "source": [
    "df=df.drop('EmployeeCount',axis=1)"
   ]
  },
  {
   "cell_type": "code",
   "execution_count": 184,
   "id": "e126085d",
   "metadata": {},
   "outputs": [
    {
     "data": {
      "text/plain": [
       "<bound method Series.unique of 0          1\n",
       "1          2\n",
       "2          4\n",
       "3          5\n",
       "4          7\n",
       "        ... \n",
       "1465    2061\n",
       "1466    2062\n",
       "1467    2064\n",
       "1468    2065\n",
       "1469    2068\n",
       "Name: EmployeeNumber, Length: 1470, dtype: int64>"
      ]
     },
     "execution_count": 184,
     "metadata": {},
     "output_type": "execute_result"
    }
   ],
   "source": [
    "df['EmployeeNumber'].unique"
   ]
  },
  {
   "cell_type": "code",
   "execution_count": 185,
   "id": "90d13919",
   "metadata": {},
   "outputs": [],
   "source": [
    "df=df.drop('EmployeeNumber', axis=1)"
   ]
  },
  {
   "cell_type": "code",
   "execution_count": 186,
   "id": "531aa121",
   "metadata": {},
   "outputs": [
    {
     "data": {
      "text/html": [
       "<div>\n",
       "<style scoped>\n",
       "    .dataframe tbody tr th:only-of-type {\n",
       "        vertical-align: middle;\n",
       "    }\n",
       "\n",
       "    .dataframe tbody tr th {\n",
       "        vertical-align: top;\n",
       "    }\n",
       "\n",
       "    .dataframe thead th {\n",
       "        text-align: right;\n",
       "    }\n",
       "</style>\n",
       "<table border=\"1\" class=\"dataframe\">\n",
       "  <thead>\n",
       "    <tr style=\"text-align: right;\">\n",
       "      <th></th>\n",
       "      <th>Age</th>\n",
       "      <th>Attrition</th>\n",
       "      <th>BusinessTravel</th>\n",
       "      <th>DailyRate</th>\n",
       "      <th>Department</th>\n",
       "      <th>DistanceFromHome</th>\n",
       "      <th>Education</th>\n",
       "      <th>EducationField</th>\n",
       "      <th>EnvironmentSatisfaction</th>\n",
       "      <th>Gender</th>\n",
       "      <th>...</th>\n",
       "      <th>RelationshipSatisfaction</th>\n",
       "      <th>StandardHours</th>\n",
       "      <th>StockOptionLevel</th>\n",
       "      <th>TotalWorkingYears</th>\n",
       "      <th>TrainingTimesLastYear</th>\n",
       "      <th>WorkLifeBalance</th>\n",
       "      <th>YearsAtCompany</th>\n",
       "      <th>YearsInCurrentRole</th>\n",
       "      <th>YearsSinceLastPromotion</th>\n",
       "      <th>YearsWithCurrManager</th>\n",
       "    </tr>\n",
       "  </thead>\n",
       "  <tbody>\n",
       "    <tr>\n",
       "      <th>0</th>\n",
       "      <td>41</td>\n",
       "      <td>Yes</td>\n",
       "      <td>Travel_Rarely</td>\n",
       "      <td>1102</td>\n",
       "      <td>Sales</td>\n",
       "      <td>1</td>\n",
       "      <td>2</td>\n",
       "      <td>Life Sciences</td>\n",
       "      <td>2</td>\n",
       "      <td>Female</td>\n",
       "      <td>...</td>\n",
       "      <td>1</td>\n",
       "      <td>80</td>\n",
       "      <td>0</td>\n",
       "      <td>8</td>\n",
       "      <td>0</td>\n",
       "      <td>1</td>\n",
       "      <td>6</td>\n",
       "      <td>4</td>\n",
       "      <td>0</td>\n",
       "      <td>5</td>\n",
       "    </tr>\n",
       "    <tr>\n",
       "      <th>1</th>\n",
       "      <td>49</td>\n",
       "      <td>No</td>\n",
       "      <td>Travel_Frequently</td>\n",
       "      <td>279</td>\n",
       "      <td>Research &amp; Development</td>\n",
       "      <td>8</td>\n",
       "      <td>1</td>\n",
       "      <td>Life Sciences</td>\n",
       "      <td>3</td>\n",
       "      <td>Male</td>\n",
       "      <td>...</td>\n",
       "      <td>4</td>\n",
       "      <td>80</td>\n",
       "      <td>1</td>\n",
       "      <td>10</td>\n",
       "      <td>3</td>\n",
       "      <td>3</td>\n",
       "      <td>10</td>\n",
       "      <td>7</td>\n",
       "      <td>1</td>\n",
       "      <td>7</td>\n",
       "    </tr>\n",
       "    <tr>\n",
       "      <th>2</th>\n",
       "      <td>37</td>\n",
       "      <td>Yes</td>\n",
       "      <td>Travel_Rarely</td>\n",
       "      <td>1373</td>\n",
       "      <td>Research &amp; Development</td>\n",
       "      <td>2</td>\n",
       "      <td>2</td>\n",
       "      <td>Other</td>\n",
       "      <td>4</td>\n",
       "      <td>Male</td>\n",
       "      <td>...</td>\n",
       "      <td>2</td>\n",
       "      <td>80</td>\n",
       "      <td>0</td>\n",
       "      <td>7</td>\n",
       "      <td>3</td>\n",
       "      <td>3</td>\n",
       "      <td>0</td>\n",
       "      <td>0</td>\n",
       "      <td>0</td>\n",
       "      <td>0</td>\n",
       "    </tr>\n",
       "    <tr>\n",
       "      <th>3</th>\n",
       "      <td>33</td>\n",
       "      <td>No</td>\n",
       "      <td>Travel_Frequently</td>\n",
       "      <td>1392</td>\n",
       "      <td>Research &amp; Development</td>\n",
       "      <td>3</td>\n",
       "      <td>4</td>\n",
       "      <td>Life Sciences</td>\n",
       "      <td>4</td>\n",
       "      <td>Female</td>\n",
       "      <td>...</td>\n",
       "      <td>3</td>\n",
       "      <td>80</td>\n",
       "      <td>0</td>\n",
       "      <td>8</td>\n",
       "      <td>3</td>\n",
       "      <td>3</td>\n",
       "      <td>8</td>\n",
       "      <td>7</td>\n",
       "      <td>3</td>\n",
       "      <td>0</td>\n",
       "    </tr>\n",
       "    <tr>\n",
       "      <th>4</th>\n",
       "      <td>27</td>\n",
       "      <td>No</td>\n",
       "      <td>Travel_Rarely</td>\n",
       "      <td>591</td>\n",
       "      <td>Research &amp; Development</td>\n",
       "      <td>2</td>\n",
       "      <td>1</td>\n",
       "      <td>Medical</td>\n",
       "      <td>1</td>\n",
       "      <td>Male</td>\n",
       "      <td>...</td>\n",
       "      <td>4</td>\n",
       "      <td>80</td>\n",
       "      <td>1</td>\n",
       "      <td>6</td>\n",
       "      <td>3</td>\n",
       "      <td>3</td>\n",
       "      <td>2</td>\n",
       "      <td>2</td>\n",
       "      <td>2</td>\n",
       "      <td>2</td>\n",
       "    </tr>\n",
       "  </tbody>\n",
       "</table>\n",
       "<p>5 rows × 33 columns</p>\n",
       "</div>"
      ],
      "text/plain": [
       "   Age Attrition     BusinessTravel  DailyRate              Department  \\\n",
       "0   41       Yes      Travel_Rarely       1102                   Sales   \n",
       "1   49        No  Travel_Frequently        279  Research & Development   \n",
       "2   37       Yes      Travel_Rarely       1373  Research & Development   \n",
       "3   33        No  Travel_Frequently       1392  Research & Development   \n",
       "4   27        No      Travel_Rarely        591  Research & Development   \n",
       "\n",
       "   DistanceFromHome  Education EducationField  EnvironmentSatisfaction  \\\n",
       "0                 1          2  Life Sciences                        2   \n",
       "1                 8          1  Life Sciences                        3   \n",
       "2                 2          2          Other                        4   \n",
       "3                 3          4  Life Sciences                        4   \n",
       "4                 2          1        Medical                        1   \n",
       "\n",
       "   Gender  ...  RelationshipSatisfaction  StandardHours  StockOptionLevel  \\\n",
       "0  Female  ...                         1             80                 0   \n",
       "1    Male  ...                         4             80                 1   \n",
       "2    Male  ...                         2             80                 0   \n",
       "3  Female  ...                         3             80                 0   \n",
       "4    Male  ...                         4             80                 1   \n",
       "\n",
       "  TotalWorkingYears  TrainingTimesLastYear WorkLifeBalance  YearsAtCompany  \\\n",
       "0                 8                      0               1               6   \n",
       "1                10                      3               3              10   \n",
       "2                 7                      3               3               0   \n",
       "3                 8                      3               3               8   \n",
       "4                 6                      3               3               2   \n",
       "\n",
       "   YearsInCurrentRole  YearsSinceLastPromotion YearsWithCurrManager  \n",
       "0                   4                        0                    5  \n",
       "1                   7                        1                    7  \n",
       "2                   0                        0                    0  \n",
       "3                   7                        3                    0  \n",
       "4                   2                        2                    2  \n",
       "\n",
       "[5 rows x 33 columns]"
      ]
     },
     "execution_count": 186,
     "metadata": {},
     "output_type": "execute_result"
    }
   ],
   "source": [
    "df.head()"
   ]
  },
  {
   "cell_type": "code",
   "execution_count": 188,
   "id": "d108ee9a",
   "metadata": {},
   "outputs": [
    {
     "data": {
      "text/plain": [
       "<AxesSubplot:xlabel='Gender', ylabel='count'>"
      ]
     },
     "execution_count": 188,
     "metadata": {},
     "output_type": "execute_result"
    },
    {
     "data": {
      "image/png": "[encoded data removed]",
      "text/plain": [
       "<Figure size 432x288 with 1 Axes>"
      ]
     },
     "metadata": {
      "needs_background": "light"
     },
     "output_type": "display_data"
    }
   ],
   "source": [
    "sns.countplot(x='Gender',data=df)"
   ]
  },
  {
   "cell_type": "markdown",
   "id": "bc6fc721",
   "metadata": {},
   "source": [
    "male employee are more than female"
   ]
  },
  {
   "cell_type": "code",
   "execution_count": 189,
   "id": "a03698b2",
   "metadata": {},
   "outputs": [
    {
     "data": {
      "text/plain": [
       "Male      882\n",
       "Female    588\n",
       "Name: Gender, dtype: int64"
      ]
     },
     "execution_count": 189,
     "metadata": {},
     "output_type": "execute_result"
    }
   ],
   "source": [
    "df['Gender'].value_counts()"
   ]
  },
  {
   "cell_type": "code",
   "execution_count": 190,
   "id": "f59814c3",
   "metadata": {},
   "outputs": [
    {
     "data": {
      "text/plain": [
       "<AxesSubplot:xlabel='TotalWorkingYears', ylabel='count'>"
      ]
     },
     "execution_count": 190,
     "metadata": {},
     "output_type": "execute_result"
    },
    {
     "data": {
      "image/png": "[encoded data removed]",
      "text/plain": [
       "<Figure size 720x1080 with 1 Axes>"
      ]
     },
     "metadata": {
      "needs_background": "light"
     },
     "output_type": "display_data"
    }
   ],
   "source": [
    "fig,ax = plt.subplots(1,1, figsize=(10,15)) \n",
    "sns.countplot(x='TotalWorkingYears',data=df)"
   ]
  },
  {
   "cell_type": "markdown",
   "id": "9bc28ab9",
   "metadata": {},
   "source": [
    "from this, we can see large no of employes were working for 10yrs"
   ]
  },
  {
   "cell_type": "code",
   "execution_count": 191,
   "id": "ffeb5d5a",
   "metadata": {},
   "outputs": [
    {
     "data": {
      "text/plain": [
       "<AxesSubplot:xlabel='Department', ylabel='count'>"
      ]
     },
     "execution_count": 191,
     "metadata": {},
     "output_type": "execute_result"
    },
    {
     "data": {
      "image/png": "[encoded data removed]",
      "text/plain": [
       "<Figure size 432x288 with 1 Axes>"
      ]
     },
     "metadata": {
      "needs_background": "light"
     },
     "output_type": "display_data"
    }
   ],
   "source": [
    "sns.countplot(x=\"Department\",hue=\"Attrition\",data=df)"
   ]
  },
  {
   "cell_type": "markdown",
   "id": "d517908c",
   "metadata": {},
   "source": [
    "we can see reduction of employees is less in Human Resource"
   ]
  },
  {
   "cell_type": "code",
   "execution_count": 192,
   "id": "d2b6b305",
   "metadata": {},
   "outputs": [
    {
     "data": {
      "text/plain": [
       "<AxesSubplot:xlabel='Gender', ylabel='count'>"
      ]
     },
     "execution_count": 192,
     "metadata": {},
     "output_type": "execute_result"
    },
    {
     "data": {
      "image/png": "[encoded data removed]",
      "text/plain": [
       "<Figure size 432x288 with 1 Axes>"
      ]
     },
     "metadata": {
      "needs_background": "light"
     },
     "output_type": "display_data"
    }
   ],
   "source": [
    "sns.countplot(x=\"Gender\",hue=\"Attrition\",data=df)"
   ]
  },
  {
   "cell_type": "code",
   "execution_count": 193,
   "id": "65b1599a",
   "metadata": {},
   "outputs": [
    {
     "data": {
      "text/plain": [
       "<AxesSubplot:xlabel='YearsAtCompany', ylabel='count'>"
      ]
     },
     "execution_count": 193,
     "metadata": {},
     "output_type": "execute_result"
    },
    {
     "data": {
      "image/png": "[encoded data removed]",
      "text/plain": [
       "<Figure size 720x720 with 1 Axes>"
      ]
     },
     "metadata": {
      "needs_background": "light"
     },
     "output_type": "display_data"
    }
   ],
   "source": [
    "fig,ax = plt.subplots(1,1, figsize=(10,10)) \n",
    "sns.countplot(x=\"YearsAtCompany\",hue=\"Attrition\",data=df)"
   ]
  },
  {
   "cell_type": "code",
   "execution_count": 194,
   "id": "cf0943d2",
   "metadata": {},
   "outputs": [
    {
     "data": {
      "text/plain": [
       "<AxesSubplot:xlabel='MaritalStatus', ylabel='count'>"
      ]
     },
     "execution_count": 194,
     "metadata": {},
     "output_type": "execute_result"
    },
    {
     "data": {
      "image/png": "[encoded data removed]",
      "text/plain": [
       "<Figure size 432x288 with 1 Axes>"
      ]
     },
     "metadata": {
      "needs_background": "light"
     },
     "output_type": "display_data"
    }
   ],
   "source": [
    "sns.countplot(x=\"MaritalStatus\",hue=\"Attrition\",data=df)"
   ]
  },
  {
   "cell_type": "code",
   "execution_count": 195,
   "id": "9f469d08",
   "metadata": {},
   "outputs": [
    {
     "data": {
      "text/plain": [
       "<AxesSubplot:xlabel='JobLevel', ylabel='count'>"
      ]
     },
     "execution_count": 195,
     "metadata": {},
     "output_type": "execute_result"
    },
    {
     "data": {
      "image/png": "[encoded data removed]",
      "text/plain": [
       "<Figure size 432x288 with 1 Axes>"
      ]
     },
     "metadata": {
      "needs_background": "light"
     },
     "output_type": "display_data"
    }
   ],
   "source": [
    "sns.countplot(x=\"JobLevel\",hue=\"Attrition\",data=df)"
   ]
  },
  {
   "cell_type": "code",
   "execution_count": 196,
   "id": "e3ff2ee8",
   "metadata": {},
   "outputs": [
    {
     "data": {
      "text/plain": [
       "array(['Life Sciences', 'Other', 'Medical', 'Marketing',\n",
       "       'Technical Degree', 'Human Resources'], dtype=object)"
      ]
     },
     "execution_count": 196,
     "metadata": {},
     "output_type": "execute_result"
    }
   ],
   "source": [
    "df['EducationField'].unique()"
   ]
  },
  {
   "cell_type": "code",
   "execution_count": 197,
   "id": "ee983c5e",
   "metadata": {},
   "outputs": [
    {
     "data": {
      "text/plain": [
       "<AxesSubplot:xlabel='YearsSinceLastPromotion', ylabel='count'>"
      ]
     },
     "execution_count": 197,
     "metadata": {},
     "output_type": "execute_result"
    },
    {
     "data": {
      "image/png": "[encoded data removed]",
      "text/plain": [
       "<Figure size 432x288 with 1 Axes>"
      ]
     },
     "metadata": {
      "needs_background": "light"
     },
     "output_type": "display_data"
    }
   ],
   "source": [
    "sns.countplot(df['YearsSinceLastPromotion'])"
   ]
  },
  {
   "cell_type": "code",
   "execution_count": 198,
   "id": "b5ab5840",
   "metadata": {},
   "outputs": [
    {
     "data": {
      "text/plain": [
       "2342     4\n",
       "6142     3\n",
       "2610     3\n",
       "2559     3\n",
       "6347     3\n",
       "        ..\n",
       "4103     1\n",
       "2705     1\n",
       "6796     1\n",
       "19717    1\n",
       "10239    1\n",
       "Name: MonthlyIncome, Length: 1349, dtype: int64"
      ]
     },
     "execution_count": 198,
     "metadata": {},
     "output_type": "execute_result"
    }
   ],
   "source": [
    "df['MonthlyIncome'].value_counts()"
   ]
  },
  {
   "cell_type": "code",
   "execution_count": 199,
   "id": "393d0d5a",
   "metadata": {},
   "outputs": [
    {
     "data": {
      "text/plain": [
       "2     344\n",
       "0     263\n",
       "7     216\n",
       "3     142\n",
       "8     107\n",
       "4      98\n",
       "1      76\n",
       "9      64\n",
       "5      31\n",
       "6      29\n",
       "10     27\n",
       "11     22\n",
       "12     18\n",
       "13     14\n",
       "17      7\n",
       "14      5\n",
       "15      5\n",
       "16      2\n",
       "Name: YearsWithCurrManager, dtype: int64"
      ]
     },
     "execution_count": 199,
     "metadata": {},
     "output_type": "execute_result"
    }
   ],
   "source": [
    "df['YearsWithCurrManager'].value_counts()"
   ]
  },
  {
   "cell_type": "code",
   "execution_count": 200,
   "id": "d0b6cc0c",
   "metadata": {},
   "outputs": [
    {
     "data": {
      "text/plain": [
       "<AxesSubplot:xlabel='YearsWithCurrManager', ylabel='count'>"
      ]
     },
     "execution_count": 200,
     "metadata": {},
     "output_type": "execute_result"
    },
    {
     "data": {
      "image/png": "[encoded data removed]",
      "text/plain": [
       "<Figure size 432x288 with 1 Axes>"
      ]
     },
     "metadata": {
      "needs_background": "light"
     },
     "output_type": "display_data"
    }
   ],
   "source": [
    "sns.countplot(df['YearsWithCurrManager'])"
   ]
  },
  {
   "cell_type": "code",
   "execution_count": 201,
   "id": "9ef81300",
   "metadata": {},
   "outputs": [
    {
     "data": {
      "text/plain": [
       "<AxesSubplot:xlabel='YearsInCurrentRole', ylabel='count'>"
      ]
     },
     "execution_count": 201,
     "metadata": {},
     "output_type": "execute_result"
    },
    {
     "data": {
      "image/png": "[encoded data removed]",
      "text/plain": [
       "<Figure size 432x288 with 1 Axes>"
      ]
     },
     "metadata": {
      "needs_background": "light"
     },
     "output_type": "display_data"
    }
   ],
   "source": [
    "sns.countplot(x='YearsInCurrentRole',hue=\"Attrition\",data=df)"
   ]
  },
  {
   "cell_type": "code",
   "execution_count": 202,
   "id": "19dc7189",
   "metadata": {},
   "outputs": [
    {
     "data": {
      "text/plain": [
       "<AxesSubplot:xlabel='NumCompaniesWorked', ylabel='count'>"
      ]
     },
     "execution_count": 202,
     "metadata": {},
     "output_type": "execute_result"
    },
    {
     "data": {
      "image/png": "[encoded data removed]",
      "text/plain": [
       "<Figure size 432x288 with 1 Axes>"
      ]
     },
     "metadata": {
      "needs_background": "light"
     },
     "output_type": "display_data"
    }
   ],
   "source": [
    "sns.countplot(x='NumCompaniesWorked',hue=\"Attrition\",data=df)"
   ]
  },
  {
   "cell_type": "code",
   "execution_count": 203,
   "id": "a7215192",
   "metadata": {},
   "outputs": [
    {
     "data": {
      "text/plain": [
       "1    521\n",
       "0    197\n",
       "3    159\n",
       "2    146\n",
       "4    139\n",
       "7     74\n",
       "6     70\n",
       "5     63\n",
       "9     52\n",
       "8     49\n",
       "Name: NumCompaniesWorked, dtype: int64"
      ]
     },
     "execution_count": 203,
     "metadata": {},
     "output_type": "execute_result"
    }
   ],
   "source": [
    "df['NumCompaniesWorked'].value_counts()"
   ]
  },
  {
   "cell_type": "code",
   "execution_count": 204,
   "id": "8bdf5d34",
   "metadata": {},
   "outputs": [
    {
     "data": {
      "text/plain": [
       "<AxesSubplot:xlabel='Attrition', ylabel='count'>"
      ]
     },
     "execution_count": 204,
     "metadata": {},
     "output_type": "execute_result"
    },
    {
     "data": {
      "image/png": "[encoded data removed]",
      "text/plain": [
       "<Figure size 432x288 with 1 Axes>"
      ]
     },
     "metadata": {
      "needs_background": "light"
     },
     "output_type": "display_data"
    }
   ],
   "source": [
    "sns.countplot(df['Attrition'])"
   ]
  },
  {
   "cell_type": "code",
   "execution_count": 205,
   "id": "6aa06cca",
   "metadata": {},
   "outputs": [],
   "source": [
    "df1=df.select_dtypes(include='object')"
   ]
  },
  {
   "cell_type": "code",
   "execution_count": 206,
   "id": "4d9fe4dc",
   "metadata": {},
   "outputs": [
    {
     "data": {
      "text/html": [
       "<div>\n",
       "<style scoped>\n",
       "    .dataframe tbody tr th:only-of-type {\n",
       "        vertical-align: middle;\n",
       "    }\n",
       "\n",
       "    .dataframe tbody tr th {\n",
       "        vertical-align: top;\n",
       "    }\n",
       "\n",
       "    .dataframe thead th {\n",
       "        text-align: right;\n",
       "    }\n",
       "</style>\n",
       "<table border=\"1\" class=\"dataframe\">\n",
       "  <thead>\n",
       "    <tr style=\"text-align: right;\">\n",
       "      <th></th>\n",
       "      <th>Attrition</th>\n",
       "      <th>BusinessTravel</th>\n",
       "      <th>Department</th>\n",
       "      <th>EducationField</th>\n",
       "      <th>Gender</th>\n",
       "      <th>JobRole</th>\n",
       "      <th>MaritalStatus</th>\n",
       "      <th>Over18</th>\n",
       "      <th>OverTime</th>\n",
       "    </tr>\n",
       "  </thead>\n",
       "  <tbody>\n",
       "    <tr>\n",
       "      <th>count</th>\n",
       "      <td>1470</td>\n",
       "      <td>1470</td>\n",
       "      <td>1470</td>\n",
       "      <td>1470</td>\n",
       "      <td>1470</td>\n",
       "      <td>1470</td>\n",
       "      <td>1470</td>\n",
       "      <td>1470</td>\n",
       "      <td>1470</td>\n",
       "    </tr>\n",
       "    <tr>\n",
       "      <th>unique</th>\n",
       "      <td>2</td>\n",
       "      <td>3</td>\n",
       "      <td>3</td>\n",
       "      <td>6</td>\n",
       "      <td>2</td>\n",
       "      <td>9</td>\n",
       "      <td>3</td>\n",
       "      <td>1</td>\n",
       "      <td>2</td>\n",
       "    </tr>\n",
       "    <tr>\n",
       "      <th>top</th>\n",
       "      <td>No</td>\n",
       "      <td>Travel_Rarely</td>\n",
       "      <td>Research &amp; Development</td>\n",
       "      <td>Life Sciences</td>\n",
       "      <td>Male</td>\n",
       "      <td>Sales Executive</td>\n",
       "      <td>Married</td>\n",
       "      <td>Y</td>\n",
       "      <td>No</td>\n",
       "    </tr>\n",
       "    <tr>\n",
       "      <th>freq</th>\n",
       "      <td>1233</td>\n",
       "      <td>1043</td>\n",
       "      <td>961</td>\n",
       "      <td>606</td>\n",
       "      <td>882</td>\n",
       "      <td>326</td>\n",
       "      <td>673</td>\n",
       "      <td>1470</td>\n",
       "      <td>1054</td>\n",
       "    </tr>\n",
       "  </tbody>\n",
       "</table>\n",
       "</div>"
      ],
      "text/plain": [
       "       Attrition BusinessTravel              Department EducationField Gender  \\\n",
       "count       1470           1470                    1470           1470   1470   \n",
       "unique         2              3                       3              6      2   \n",
       "top           No  Travel_Rarely  Research & Development  Life Sciences   Male   \n",
       "freq        1233           1043                     961            606    882   \n",
       "\n",
       "                JobRole MaritalStatus Over18 OverTime  \n",
       "count              1470          1470   1470     1470  \n",
       "unique                9             3      1        2  \n",
       "top     Sales Executive       Married      Y       No  \n",
       "freq                326           673   1470     1054  "
      ]
     },
     "execution_count": 206,
     "metadata": {},
     "output_type": "execute_result"
    }
   ],
   "source": [
    "df1.describe()"
   ]
  },
  {
   "cell_type": "code",
   "execution_count": 226,
   "id": "fb1d6b5d",
   "metadata": {},
   "outputs": [],
   "source": [
    "df1=df1.drop('Over18',axis=1)"
   ]
  },
  {
   "cell_type": "code",
   "execution_count": 228,
   "id": "eb87b5e5",
   "metadata": {},
   "outputs": [
    {
     "data": {
      "text/plain": [
       "Age                         int64\n",
       "Attrition                   int64\n",
       "BusinessTravel              int64\n",
       "DailyRate                   int64\n",
       "Department                  int64\n",
       "DistanceFromHome            int64\n",
       "Education                   int64\n",
       "EducationField              int64\n",
       "EnvironmentSatisfaction     int64\n",
       "Gender                      int64\n",
       "HourlyRate                  int64\n",
       "JobInvolvement              int64\n",
       "JobLevel                    int64\n",
       "JobRole                     int64\n",
       "JobSatisfaction             int64\n",
       "MaritalStatus               int64\n",
       "MonthlyIncome               int64\n",
       "MonthlyRate                 int64\n",
       "NumCompaniesWorked          int64\n",
       "OverTime                    int64\n",
       "PercentSalaryHike           int64\n",
       "PerformanceRating           int64\n",
       "RelationshipSatisfaction    int64\n",
       "StandardHours               int64\n",
       "StockOptionLevel            int64\n",
       "TotalWorkingYears           int64\n",
       "TrainingTimesLastYear       int64\n",
       "WorkLifeBalance             int64\n",
       "YearsAtCompany              int64\n",
       "YearsInCurrentRole          int64\n",
       "YearsSinceLastPromotion     int64\n",
       "YearsWithCurrManager        int64\n",
       "dtype: object"
      ]
     },
     "execution_count": 228,
     "metadata": {},
     "output_type": "execute_result"
    }
   ],
   "source": [
    "from sklearn.preprocessing import LabelEncoder\n",
    "le=LabelEncoder()\n",
    "col=df1.columns\n",
    "for i in col:\n",
    "    df[i]=le.fit_transform(df[i])\n",
    "df.dtypes"
   ]
  },
  {
   "cell_type": "code",
   "execution_count": 229,
   "id": "87ddb409",
   "metadata": {},
   "outputs": [
    {
     "data": {
      "text/plain": [
       "Age                         0.413286\n",
       "Attrition                   1.844366\n",
       "BusinessTravel             -1.439006\n",
       "DailyRate                   0.000930\n",
       "Department                  0.172231\n",
       "DistanceFromHome            0.958118\n",
       "Education                  -0.289681\n",
       "EducationField              0.550371\n",
       "EnvironmentSatisfaction    -0.321654\n",
       "Gender                     -0.408665\n",
       "HourlyRate                 -0.032311\n",
       "JobInvolvement             -0.498419\n",
       "JobLevel                    1.025401\n",
       "JobRole                    -0.357270\n",
       "JobSatisfaction            -0.329672\n",
       "MaritalStatus              -0.152175\n",
       "MonthlyIncome               0.060816\n",
       "MonthlyRate                 0.012315\n",
       "NumCompaniesWorked          1.026471\n",
       "OverTime                    0.964489\n",
       "PercentSalaryHike           0.821128\n",
       "PerformanceRating           1.921883\n",
       "RelationshipSatisfaction   -0.302828\n",
       "StandardHours               0.000000\n",
       "StockOptionLevel            0.968980\n",
       "TotalWorkingYears           1.112899\n",
       "TrainingTimesLastYear       0.553124\n",
       "WorkLifeBalance            -0.552480\n",
       "YearsAtCompany              1.676650\n",
       "YearsInCurrentRole          0.917363\n",
       "YearsSinceLastPromotion     1.984290\n",
       "YearsWithCurrManager        0.833451\n",
       "dtype: float64"
      ]
     },
     "execution_count": 229,
     "metadata": {},
     "output_type": "execute_result"
    }
   ],
   "source": [
    "df.skew()"
   ]
  },
  {
   "cell_type": "code",
   "execution_count": 231,
   "id": "4502c16e",
   "metadata": {},
   "outputs": [
    {
     "data": {
      "text/plain": [
       "Age                            AxesSubplot(0.125,0.772143;0.110714x0.107857)\n",
       "Attrition                   AxesSubplot(0.257857,0.772143;0.110714x0.107857)\n",
       "BusinessTravel              AxesSubplot(0.390714,0.772143;0.110714x0.107857)\n",
       "DailyRate                   AxesSubplot(0.523571,0.772143;0.110714x0.107857)\n",
       "Department                  AxesSubplot(0.656429,0.772143;0.110714x0.107857)\n",
       "DistanceFromHome            AxesSubplot(0.789286,0.772143;0.110714x0.107857)\n",
       "Education                      AxesSubplot(0.125,0.642714;0.110714x0.107857)\n",
       "EducationField              AxesSubplot(0.257857,0.642714;0.110714x0.107857)\n",
       "EnvironmentSatisfaction     AxesSubplot(0.390714,0.642714;0.110714x0.107857)\n",
       "Gender                      AxesSubplot(0.523571,0.642714;0.110714x0.107857)\n",
       "HourlyRate                  AxesSubplot(0.656429,0.642714;0.110714x0.107857)\n",
       "JobInvolvement              AxesSubplot(0.789286,0.642714;0.110714x0.107857)\n",
       "JobLevel                       AxesSubplot(0.125,0.513286;0.110714x0.107857)\n",
       "JobRole                     AxesSubplot(0.257857,0.513286;0.110714x0.107857)\n",
       "JobSatisfaction             AxesSubplot(0.390714,0.513286;0.110714x0.107857)\n",
       "MaritalStatus               AxesSubplot(0.523571,0.513286;0.110714x0.107857)\n",
       "MonthlyIncome               AxesSubplot(0.656429,0.513286;0.110714x0.107857)\n",
       "MonthlyRate                 AxesSubplot(0.789286,0.513286;0.110714x0.107857)\n",
       "NumCompaniesWorked             AxesSubplot(0.125,0.383857;0.110714x0.107857)\n",
       "OverTime                    AxesSubplot(0.257857,0.383857;0.110714x0.107857)\n",
       "PercentSalaryHike           AxesSubplot(0.390714,0.383857;0.110714x0.107857)\n",
       "PerformanceRating           AxesSubplot(0.523571,0.383857;0.110714x0.107857)\n",
       "RelationshipSatisfaction    AxesSubplot(0.656429,0.383857;0.110714x0.107857)\n",
       "StandardHours               AxesSubplot(0.789286,0.383857;0.110714x0.107857)\n",
       "StockOptionLevel               AxesSubplot(0.125,0.254429;0.110714x0.107857)\n",
       "TotalWorkingYears           AxesSubplot(0.257857,0.254429;0.110714x0.107857)\n",
       "TrainingTimesLastYear       AxesSubplot(0.390714,0.254429;0.110714x0.107857)\n",
       "WorkLifeBalance             AxesSubplot(0.523571,0.254429;0.110714x0.107857)\n",
       "YearsAtCompany              AxesSubplot(0.656429,0.254429;0.110714x0.107857)\n",
       "YearsInCurrentRole          AxesSubplot(0.789286,0.254429;0.110714x0.107857)\n",
       "YearsSinceLastPromotion           AxesSubplot(0.125,0.125;0.110714x0.107857)\n",
       "YearsWithCurrManager           AxesSubplot(0.257857,0.125;0.110714x0.107857)\n",
       "dtype: object"
      ]
     },
     "execution_count": 231,
     "metadata": {},
     "output_type": "execute_result"
    },
    {
     "data": {
      "image/png": "[encoded data removed]",
      "text/plain": [
       "<Figure size 864x576 with 36 Axes>"
      ]
     },
     "metadata": {
      "needs_background": "light"
     },
     "output_type": "display_data"
    }
   ],
   "source": [
    "df.plot(kind='box',subplots=True,layout=(6,6),figsize=(12,8))"
   ]
  },
  {
   "cell_type": "code",
   "execution_count": 299,
   "id": "60468857",
   "metadata": {},
   "outputs": [
    {
     "data": {
      "text/plain": [
       "-0.2460041611908789"
      ]
     },
     "execution_count": 299,
     "metadata": {},
     "output_type": "execute_result"
    }
   ],
   "source": [
    "df['DistanceFromHome']=np.log(df['DistanceFromHome'])\n",
    "df['DistanceFromHome'].skew()"
   ]
  },
  {
   "cell_type": "code",
   "execution_count": 301,
   "id": "ed547a99",
   "metadata": {},
   "outputs": [
    {
     "data": {
      "text/plain": [
       "-0.01924043690137981"
      ]
     },
     "execution_count": 301,
     "metadata": {},
     "output_type": "execute_result"
    }
   ],
   "source": [
    "df['NumCompaniesWorked']=np.log(df['NumCompaniesWorked']+1)\n",
    "df['NumCompaniesWorked'].skew()"
   ]
  },
  {
   "cell_type": "code",
   "execution_count": 308,
   "id": "3d422925",
   "metadata": {},
   "outputs": [
    {
     "data": {
      "text/plain": [
       "-0.944977541526295"
      ]
     },
     "execution_count": 308,
     "metadata": {},
     "output_type": "execute_result"
    }
   ],
   "source": [
    "df['TotalWorkingYears']=np.sqrt(df['TotalWorkingYears']+1)\n",
    "df['TotalWorkingYears'].skew()"
   ]
  },
  {
   "cell_type": "code",
   "execution_count": 309,
   "id": "03feb976",
   "metadata": {},
   "outputs": [
    {
     "data": {
      "text/plain": [
       "-1.2162682903701134"
      ]
     },
     "execution_count": 309,
     "metadata": {},
     "output_type": "execute_result"
    }
   ],
   "source": [
    "df['TrainingTimesLastYear']=np.sqrt(df['TrainingTimesLastYear'])\n",
    "df['TrainingTimesLastYear'].skew()"
   ]
  },
  {
   "cell_type": "code",
   "execution_count": 310,
   "id": "5628cef2",
   "metadata": {},
   "outputs": [
    {
     "data": {
      "text/plain": [
       "0.4268345334677217"
      ]
     },
     "execution_count": 310,
     "metadata": {},
     "output_type": "execute_result"
    }
   ],
   "source": [
    "df['YearsAtCompany']=np.sqrt(df['YearsAtCompany'])\n",
    "df['YearsAtCompany'].skew()"
   ]
  },
  {
   "cell_type": "code",
   "execution_count": 311,
   "id": "b9171da6",
   "metadata": {},
   "outputs": [
    {
     "data": {
      "text/plain": [
       "0.7391255688486648"
      ]
     },
     "execution_count": 311,
     "metadata": {},
     "output_type": "execute_result"
    }
   ],
   "source": [
    "df['YearsSinceLastPromotion']=np.sqrt(df['YearsSinceLastPromotion'])\n",
    "df['YearsSinceLastPromotion'].skew()"
   ]
  },
  {
   "cell_type": "code",
   "execution_count": 313,
   "id": "42554a49",
   "metadata": {},
   "outputs": [
    {
     "data": {
      "text/plain": [
       "-1.1248937797487368"
      ]
     },
     "execution_count": 313,
     "metadata": {},
     "output_type": "execute_result"
    }
   ],
   "source": [
    "df['YearsWithCurrManager']=np.sqrt(df['YearsWithCurrManager'])\n",
    "df['YearsWithCurrManager'].skew()"
   ]
  },
  {
   "cell_type": "code",
   "execution_count": 314,
   "id": "a8253c79",
   "metadata": {},
   "outputs": [
    {
     "data": {
      "text/plain": [
       "Age                         0.413286\n",
       "Attrition                   1.844366\n",
       "BusinessTravel             -1.439006\n",
       "DailyRate                  -0.003519\n",
       "Department                  0.172231\n",
       "DistanceFromHome           -0.246004\n",
       "Education                  -0.289681\n",
       "EducationField              0.550371\n",
       "EnvironmentSatisfaction    -0.321654\n",
       "Gender                     -0.408665\n",
       "HourlyRate                 -0.032311\n",
       "JobInvolvement             -0.498419\n",
       "JobLevel                    1.025401\n",
       "JobRole                    -0.357270\n",
       "JobSatisfaction            -0.329672\n",
       "MaritalStatus              -0.152175\n",
       "MonthlyIncome               1.369817\n",
       "MonthlyRate                 0.018578\n",
       "NumCompaniesWorked         -0.019240\n",
       "OverTime                    0.964489\n",
       "PercentSalaryHike           0.821128\n",
       "PerformanceRating           1.921883\n",
       "RelationshipSatisfaction   -0.302828\n",
       "StandardHours               0.000000\n",
       "StockOptionLevel            0.968980\n",
       "TotalWorkingYears          -0.944978\n",
       "TrainingTimesLastYear      -1.216268\n",
       "WorkLifeBalance            -0.552480\n",
       "YearsAtCompany              0.426835\n",
       "YearsInCurrentRole          0.917363\n",
       "YearsSinceLastPromotion     0.739126\n",
       "YearsWithCurrManager       -1.124894\n",
       "dtype: float64"
      ]
     },
     "execution_count": 314,
     "metadata": {},
     "output_type": "execute_result"
    }
   ],
   "source": [
    "df.skew()"
   ]
  },
  {
   "cell_type": "code",
   "execution_count": 315,
   "id": "a72c0d56",
   "metadata": {},
   "outputs": [
    {
     "data": {
      "text/plain": [
       "Age                            AxesSubplot(0.125,0.772143;0.110714x0.107857)\n",
       "Attrition                   AxesSubplot(0.257857,0.772143;0.110714x0.107857)\n",
       "BusinessTravel              AxesSubplot(0.390714,0.772143;0.110714x0.107857)\n",
       "DailyRate                   AxesSubplot(0.523571,0.772143;0.110714x0.107857)\n",
       "Department                  AxesSubplot(0.656429,0.772143;0.110714x0.107857)\n",
       "DistanceFromHome            AxesSubplot(0.789286,0.772143;0.110714x0.107857)\n",
       "Education                      AxesSubplot(0.125,0.642714;0.110714x0.107857)\n",
       "EducationField              AxesSubplot(0.257857,0.642714;0.110714x0.107857)\n",
       "EnvironmentSatisfaction     AxesSubplot(0.390714,0.642714;0.110714x0.107857)\n",
       "Gender                      AxesSubplot(0.523571,0.642714;0.110714x0.107857)\n",
       "HourlyRate                  AxesSubplot(0.656429,0.642714;0.110714x0.107857)\n",
       "JobInvolvement              AxesSubplot(0.789286,0.642714;0.110714x0.107857)\n",
       "JobLevel                       AxesSubplot(0.125,0.513286;0.110714x0.107857)\n",
       "JobRole                     AxesSubplot(0.257857,0.513286;0.110714x0.107857)\n",
       "JobSatisfaction             AxesSubplot(0.390714,0.513286;0.110714x0.107857)\n",
       "MaritalStatus               AxesSubplot(0.523571,0.513286;0.110714x0.107857)\n",
       "MonthlyIncome               AxesSubplot(0.656429,0.513286;0.110714x0.107857)\n",
       "MonthlyRate                 AxesSubplot(0.789286,0.513286;0.110714x0.107857)\n",
       "NumCompaniesWorked             AxesSubplot(0.125,0.383857;0.110714x0.107857)\n",
       "OverTime                    AxesSubplot(0.257857,0.383857;0.110714x0.107857)\n",
       "PercentSalaryHike           AxesSubplot(0.390714,0.383857;0.110714x0.107857)\n",
       "PerformanceRating           AxesSubplot(0.523571,0.383857;0.110714x0.107857)\n",
       "RelationshipSatisfaction    AxesSubplot(0.656429,0.383857;0.110714x0.107857)\n",
       "StandardHours               AxesSubplot(0.789286,0.383857;0.110714x0.107857)\n",
       "StockOptionLevel               AxesSubplot(0.125,0.254429;0.110714x0.107857)\n",
       "TotalWorkingYears           AxesSubplot(0.257857,0.254429;0.110714x0.107857)\n",
       "TrainingTimesLastYear       AxesSubplot(0.390714,0.254429;0.110714x0.107857)\n",
       "WorkLifeBalance             AxesSubplot(0.523571,0.254429;0.110714x0.107857)\n",
       "YearsAtCompany              AxesSubplot(0.656429,0.254429;0.110714x0.107857)\n",
       "YearsInCurrentRole          AxesSubplot(0.789286,0.254429;0.110714x0.107857)\n",
       "YearsSinceLastPromotion           AxesSubplot(0.125,0.125;0.110714x0.107857)\n",
       "YearsWithCurrManager           AxesSubplot(0.257857,0.125;0.110714x0.107857)\n",
       "dtype: object"
      ]
     },
     "execution_count": 315,
     "metadata": {},
     "output_type": "execute_result"
    },
    {
     "data": {
      "image/png": "[encoded data removed]",
      "text/plain": [
       "<Figure size 864x576 with 36 Axes>"
      ]
     },
     "metadata": {
      "needs_background": "light"
     },
     "output_type": "display_data"
    }
   ],
   "source": [
    "df.plot(kind='box',subplots=True,layout=(6,6),figsize=(12,8))"
   ]
  },
  {
   "cell_type": "code",
   "execution_count": 317,
   "id": "b27b3425",
   "metadata": {},
   "outputs": [],
   "source": [
    "df=df.drop(['DailyRate', 'DistanceFromHome','EducationField', 'EnvironmentSatisfaction', 'HourlyRate',\n",
    "        'MonthlyRate', 'NumCompaniesWorked',\n",
    "       'RelationshipSatisfaction',\n",
    "       'YearsInCurrentRole'],axis=1)"
   ]
  },
  {
   "cell_type": "code",
   "execution_count": 332,
   "id": "997fed1b",
   "metadata": {},
   "outputs": [],
   "source": [
    "df=df.drop('StandardHours',axis=1)"
   ]
  },
  {
   "cell_type": "code",
   "execution_count": 346,
   "id": "516eb4aa",
   "metadata": {},
   "outputs": [],
   "source": [
    "df=df.drop('Over18',axis=1)"
   ]
  },
  {
   "cell_type": "code",
   "execution_count": 347,
   "id": "0ce28e4a",
   "metadata": {},
   "outputs": [
    {
     "data": {
      "text/plain": [
       "(1470, 22)"
      ]
     },
     "execution_count": 347,
     "metadata": {},
     "output_type": "execute_result"
    }
   ],
   "source": [
    "df.shape"
   ]
  },
  {
   "cell_type": "code",
   "execution_count": 351,
   "id": "3cd66a5e",
   "metadata": {},
   "outputs": [
    {
     "data": {
      "text/html": [
       "<div>\n",
       "<style scoped>\n",
       "    .dataframe tbody tr th:only-of-type {\n",
       "        vertical-align: middle;\n",
       "    }\n",
       "\n",
       "    .dataframe tbody tr th {\n",
       "        vertical-align: top;\n",
       "    }\n",
       "\n",
       "    .dataframe thead th {\n",
       "        text-align: right;\n",
       "    }\n",
       "</style>\n",
       "<table border=\"1\" class=\"dataframe\">\n",
       "  <thead>\n",
       "    <tr style=\"text-align: right;\">\n",
       "      <th></th>\n",
       "      <th>Age</th>\n",
       "      <th>Attrition</th>\n",
       "      <th>BusinessTravel</th>\n",
       "      <th>Department</th>\n",
       "      <th>Education</th>\n",
       "      <th>Gender</th>\n",
       "      <th>JobInvolvement</th>\n",
       "      <th>JobLevel</th>\n",
       "      <th>JobRole</th>\n",
       "      <th>JobSatisfaction</th>\n",
       "      <th>...</th>\n",
       "      <th>OverTime</th>\n",
       "      <th>PercentSalaryHike</th>\n",
       "      <th>PerformanceRating</th>\n",
       "      <th>StockOptionLevel</th>\n",
       "      <th>TotalWorkingYears</th>\n",
       "      <th>TrainingTimesLastYear</th>\n",
       "      <th>WorkLifeBalance</th>\n",
       "      <th>YearsAtCompany</th>\n",
       "      <th>YearsSinceLastPromotion</th>\n",
       "      <th>YearsWithCurrManager</th>\n",
       "    </tr>\n",
       "  </thead>\n",
       "  <tbody>\n",
       "    <tr>\n",
       "      <th>Age</th>\n",
       "      <td>1.000000</td>\n",
       "      <td>-0.159205</td>\n",
       "      <td>0.024751</td>\n",
       "      <td>-0.031882</td>\n",
       "      <td>0.208034</td>\n",
       "      <td>-0.036311</td>\n",
       "      <td>0.029820</td>\n",
       "      <td>0.509604</td>\n",
       "      <td>-0.122427</td>\n",
       "      <td>-0.004892</td>\n",
       "      <td>...</td>\n",
       "      <td>0.028062</td>\n",
       "      <td>0.003634</td>\n",
       "      <td>0.001904</td>\n",
       "      <td>0.037510</td>\n",
       "      <td>0.649891</td>\n",
       "      <td>-0.012535</td>\n",
       "      <td>-0.021490</td>\n",
       "      <td>0.291655</td>\n",
       "      <td>0.196728</td>\n",
       "      <td>0.144536</td>\n",
       "    </tr>\n",
       "    <tr>\n",
       "      <th>Attrition</th>\n",
       "      <td>-0.159205</td>\n",
       "      <td>1.000000</td>\n",
       "      <td>0.000074</td>\n",
       "      <td>0.063991</td>\n",
       "      <td>-0.031373</td>\n",
       "      <td>0.029453</td>\n",
       "      <td>-0.130016</td>\n",
       "      <td>-0.169105</td>\n",
       "      <td>0.067151</td>\n",
       "      <td>-0.103481</td>\n",
       "      <td>...</td>\n",
       "      <td>0.246118</td>\n",
       "      <td>-0.013478</td>\n",
       "      <td>0.002889</td>\n",
       "      <td>-0.137145</td>\n",
       "      <td>-0.230504</td>\n",
       "      <td>-0.066523</td>\n",
       "      <td>-0.063939</td>\n",
       "      <td>-0.178602</td>\n",
       "      <td>-0.049097</td>\n",
       "      <td>-0.208497</td>\n",
       "    </tr>\n",
       "    <tr>\n",
       "      <th>BusinessTravel</th>\n",
       "      <td>0.024751</td>\n",
       "      <td>0.000074</td>\n",
       "      <td>1.000000</td>\n",
       "      <td>-0.009044</td>\n",
       "      <td>0.000757</td>\n",
       "      <td>-0.032981</td>\n",
       "      <td>0.039062</td>\n",
       "      <td>0.019311</td>\n",
       "      <td>0.002724</td>\n",
       "      <td>-0.033962</td>\n",
       "      <td>...</td>\n",
       "      <td>0.016543</td>\n",
       "      <td>-0.029377</td>\n",
       "      <td>-0.026341</td>\n",
       "      <td>-0.016727</td>\n",
       "      <td>0.047209</td>\n",
       "      <td>0.018380</td>\n",
       "      <td>-0.011256</td>\n",
       "      <td>-0.010077</td>\n",
       "      <td>-0.031610</td>\n",
       "      <td>-0.004286</td>\n",
       "    </tr>\n",
       "    <tr>\n",
       "      <th>Department</th>\n",
       "      <td>-0.031882</td>\n",
       "      <td>0.063991</td>\n",
       "      <td>-0.009044</td>\n",
       "      <td>1.000000</td>\n",
       "      <td>0.007996</td>\n",
       "      <td>-0.041583</td>\n",
       "      <td>-0.024586</td>\n",
       "      <td>0.101963</td>\n",
       "      <td>0.662431</td>\n",
       "      <td>0.021001</td>\n",
       "      <td>...</td>\n",
       "      <td>0.007481</td>\n",
       "      <td>-0.007840</td>\n",
       "      <td>-0.024604</td>\n",
       "      <td>-0.012193</td>\n",
       "      <td>-0.005922</td>\n",
       "      <td>0.042130</td>\n",
       "      <td>0.026383</td>\n",
       "      <td>0.019240</td>\n",
       "      <td>0.027731</td>\n",
       "      <td>0.010882</td>\n",
       "    </tr>\n",
       "    <tr>\n",
       "      <th>Education</th>\n",
       "      <td>0.208034</td>\n",
       "      <td>-0.031373</td>\n",
       "      <td>0.000757</td>\n",
       "      <td>0.007996</td>\n",
       "      <td>1.000000</td>\n",
       "      <td>-0.016547</td>\n",
       "      <td>0.042438</td>\n",
       "      <td>0.101589</td>\n",
       "      <td>0.004236</td>\n",
       "      <td>-0.011296</td>\n",
       "      <td>...</td>\n",
       "      <td>-0.020322</td>\n",
       "      <td>-0.011111</td>\n",
       "      <td>-0.024539</td>\n",
       "      <td>0.018422</td>\n",
       "      <td>0.173234</td>\n",
       "      <td>-0.018896</td>\n",
       "      <td>0.009819</td>\n",
       "      <td>0.065393</td>\n",
       "      <td>0.040684</td>\n",
       "      <td>0.042731</td>\n",
       "    </tr>\n",
       "    <tr>\n",
       "      <th>Gender</th>\n",
       "      <td>-0.036311</td>\n",
       "      <td>0.029453</td>\n",
       "      <td>-0.032981</td>\n",
       "      <td>-0.041583</td>\n",
       "      <td>-0.016547</td>\n",
       "      <td>1.000000</td>\n",
       "      <td>0.017960</td>\n",
       "      <td>-0.039403</td>\n",
       "      <td>-0.039723</td>\n",
       "      <td>0.033252</td>\n",
       "      <td>...</td>\n",
       "      <td>-0.041924</td>\n",
       "      <td>0.002733</td>\n",
       "      <td>-0.013859</td>\n",
       "      <td>0.012716</td>\n",
       "      <td>-0.039828</td>\n",
       "      <td>-0.034321</td>\n",
       "      <td>-0.002753</td>\n",
       "      <td>-0.039305</td>\n",
       "      <td>-0.027172</td>\n",
       "      <td>-0.019117</td>\n",
       "    </tr>\n",
       "    <tr>\n",
       "      <th>JobInvolvement</th>\n",
       "      <td>0.029820</td>\n",
       "      <td>-0.130016</td>\n",
       "      <td>0.039062</td>\n",
       "      <td>-0.024586</td>\n",
       "      <td>0.042438</td>\n",
       "      <td>0.017960</td>\n",
       "      <td>1.000000</td>\n",
       "      <td>-0.012630</td>\n",
       "      <td>0.006616</td>\n",
       "      <td>-0.021476</td>\n",
       "      <td>...</td>\n",
       "      <td>-0.003507</td>\n",
       "      <td>-0.017205</td>\n",
       "      <td>-0.029071</td>\n",
       "      <td>0.021523</td>\n",
       "      <td>0.012307</td>\n",
       "      <td>-0.032899</td>\n",
       "      <td>-0.014617</td>\n",
       "      <td>-0.000121</td>\n",
       "      <td>-0.015781</td>\n",
       "      <td>0.066413</td>\n",
       "    </tr>\n",
       "    <tr>\n",
       "      <th>JobLevel</th>\n",
       "      <td>0.509604</td>\n",
       "      <td>-0.169105</td>\n",
       "      <td>0.019311</td>\n",
       "      <td>0.101963</td>\n",
       "      <td>0.101589</td>\n",
       "      <td>-0.039403</td>\n",
       "      <td>-0.012630</td>\n",
       "      <td>1.000000</td>\n",
       "      <td>-0.085457</td>\n",
       "      <td>-0.001944</td>\n",
       "      <td>...</td>\n",
       "      <td>0.000544</td>\n",
       "      <td>-0.034730</td>\n",
       "      <td>-0.021222</td>\n",
       "      <td>0.013984</td>\n",
       "      <td>0.688955</td>\n",
       "      <td>-0.007359</td>\n",
       "      <td>0.037818</td>\n",
       "      <td>0.494399</td>\n",
       "      <td>0.316835</td>\n",
       "      <td>0.260855</td>\n",
       "    </tr>\n",
       "    <tr>\n",
       "      <th>JobRole</th>\n",
       "      <td>-0.122427</td>\n",
       "      <td>0.067151</td>\n",
       "      <td>0.002724</td>\n",
       "      <td>0.662431</td>\n",
       "      <td>0.004236</td>\n",
       "      <td>-0.039723</td>\n",
       "      <td>0.006616</td>\n",
       "      <td>-0.085457</td>\n",
       "      <td>1.000000</td>\n",
       "      <td>0.017537</td>\n",
       "      <td>...</td>\n",
       "      <td>0.040662</td>\n",
       "      <td>-0.000848</td>\n",
       "      <td>-0.024233</td>\n",
       "      <td>-0.019171</td>\n",
       "      <td>-0.141635</td>\n",
       "      <td>0.001582</td>\n",
       "      <td>0.027764</td>\n",
       "      <td>-0.075894</td>\n",
       "      <td>-0.034519</td>\n",
       "      <td>-0.022152</td>\n",
       "    </tr>\n",
       "    <tr>\n",
       "      <th>JobSatisfaction</th>\n",
       "      <td>-0.004892</td>\n",
       "      <td>-0.103481</td>\n",
       "      <td>-0.033962</td>\n",
       "      <td>0.021001</td>\n",
       "      <td>-0.011296</td>\n",
       "      <td>0.033252</td>\n",
       "      <td>-0.021476</td>\n",
       "      <td>-0.001944</td>\n",
       "      <td>0.017537</td>\n",
       "      <td>1.000000</td>\n",
       "      <td>...</td>\n",
       "      <td>0.024539</td>\n",
       "      <td>0.020002</td>\n",
       "      <td>0.002297</td>\n",
       "      <td>0.010690</td>\n",
       "      <td>-0.025818</td>\n",
       "      <td>-0.020940</td>\n",
       "      <td>-0.019459</td>\n",
       "      <td>0.004268</td>\n",
       "      <td>-0.004381</td>\n",
       "      <td>-0.007260</td>\n",
       "    </tr>\n",
       "    <tr>\n",
       "      <th>MaritalStatus</th>\n",
       "      <td>-0.095029</td>\n",
       "      <td>0.162070</td>\n",
       "      <td>0.024001</td>\n",
       "      <td>0.056073</td>\n",
       "      <td>0.004053</td>\n",
       "      <td>-0.047183</td>\n",
       "      <td>-0.038497</td>\n",
       "      <td>-0.076769</td>\n",
       "      <td>0.067957</td>\n",
       "      <td>0.024360</td>\n",
       "      <td>...</td>\n",
       "      <td>-0.017521</td>\n",
       "      <td>0.012492</td>\n",
       "      <td>0.005207</td>\n",
       "      <td>-0.662577</td>\n",
       "      <td>-0.109626</td>\n",
       "      <td>0.009185</td>\n",
       "      <td>0.014708</td>\n",
       "      <td>-0.078766</td>\n",
       "      <td>-0.021491</td>\n",
       "      <td>-0.048057</td>\n",
       "    </tr>\n",
       "    <tr>\n",
       "      <th>MonthlyIncome</th>\n",
       "      <td>0.497855</td>\n",
       "      <td>-0.159840</td>\n",
       "      <td>0.034319</td>\n",
       "      <td>0.053130</td>\n",
       "      <td>0.094961</td>\n",
       "      <td>-0.031858</td>\n",
       "      <td>-0.015271</td>\n",
       "      <td>0.950300</td>\n",
       "      <td>-0.093951</td>\n",
       "      <td>-0.007157</td>\n",
       "      <td>...</td>\n",
       "      <td>0.006089</td>\n",
       "      <td>-0.027269</td>\n",
       "      <td>-0.017120</td>\n",
       "      <td>0.005408</td>\n",
       "      <td>0.668166</td>\n",
       "      <td>-0.013314</td>\n",
       "      <td>0.030683</td>\n",
       "      <td>0.469905</td>\n",
       "      <td>0.309479</td>\n",
       "      <td>0.240468</td>\n",
       "    </tr>\n",
       "    <tr>\n",
       "      <th>OverTime</th>\n",
       "      <td>0.028062</td>\n",
       "      <td>0.246118</td>\n",
       "      <td>0.016543</td>\n",
       "      <td>0.007481</td>\n",
       "      <td>-0.020322</td>\n",
       "      <td>-0.041924</td>\n",
       "      <td>-0.003507</td>\n",
       "      <td>0.000544</td>\n",
       "      <td>0.040662</td>\n",
       "      <td>0.024539</td>\n",
       "      <td>...</td>\n",
       "      <td>1.000000</td>\n",
       "      <td>-0.005433</td>\n",
       "      <td>0.004369</td>\n",
       "      <td>-0.000449</td>\n",
       "      <td>0.001641</td>\n",
       "      <td>-0.066172</td>\n",
       "      <td>-0.027092</td>\n",
       "      <td>-0.024793</td>\n",
       "      <td>-0.016619</td>\n",
       "      <td>-0.037701</td>\n",
       "    </tr>\n",
       "    <tr>\n",
       "      <th>PercentSalaryHike</th>\n",
       "      <td>0.003634</td>\n",
       "      <td>-0.013478</td>\n",
       "      <td>-0.029377</td>\n",
       "      <td>-0.007840</td>\n",
       "      <td>-0.011111</td>\n",
       "      <td>0.002733</td>\n",
       "      <td>-0.017205</td>\n",
       "      <td>-0.034730</td>\n",
       "      <td>-0.000848</td>\n",
       "      <td>0.020002</td>\n",
       "      <td>...</td>\n",
       "      <td>-0.005433</td>\n",
       "      <td>1.000000</td>\n",
       "      <td>0.773550</td>\n",
       "      <td>0.007528</td>\n",
       "      <td>-0.014328</td>\n",
       "      <td>-0.006647</td>\n",
       "      <td>-0.003280</td>\n",
       "      <td>-0.038523</td>\n",
       "      <td>-0.035002</td>\n",
       "      <td>-0.037208</td>\n",
       "    </tr>\n",
       "    <tr>\n",
       "      <th>PerformanceRating</th>\n",
       "      <td>0.001904</td>\n",
       "      <td>0.002889</td>\n",
       "      <td>-0.026341</td>\n",
       "      <td>-0.024604</td>\n",
       "      <td>-0.024539</td>\n",
       "      <td>-0.013859</td>\n",
       "      <td>-0.029071</td>\n",
       "      <td>-0.021222</td>\n",
       "      <td>-0.024233</td>\n",
       "      <td>0.002297</td>\n",
       "      <td>...</td>\n",
       "      <td>0.004369</td>\n",
       "      <td>0.773550</td>\n",
       "      <td>1.000000</td>\n",
       "      <td>0.003506</td>\n",
       "      <td>0.012194</td>\n",
       "      <td>-0.017508</td>\n",
       "      <td>0.002572</td>\n",
       "      <td>0.008017</td>\n",
       "      <td>0.002344</td>\n",
       "      <td>-0.001328</td>\n",
       "    </tr>\n",
       "    <tr>\n",
       "      <th>StockOptionLevel</th>\n",
       "      <td>0.037510</td>\n",
       "      <td>-0.137145</td>\n",
       "      <td>-0.016727</td>\n",
       "      <td>-0.012193</td>\n",
       "      <td>0.018422</td>\n",
       "      <td>0.012716</td>\n",
       "      <td>0.021523</td>\n",
       "      <td>0.013984</td>\n",
       "      <td>-0.019171</td>\n",
       "      <td>0.010690</td>\n",
       "      <td>...</td>\n",
       "      <td>-0.000449</td>\n",
       "      <td>0.007528</td>\n",
       "      <td>0.003506</td>\n",
       "      <td>1.000000</td>\n",
       "      <td>0.044328</td>\n",
       "      <td>0.018946</td>\n",
       "      <td>0.004129</td>\n",
       "      <td>0.034628</td>\n",
       "      <td>0.015543</td>\n",
       "      <td>0.041411</td>\n",
       "    </tr>\n",
       "    <tr>\n",
       "      <th>TotalWorkingYears</th>\n",
       "      <td>0.649891</td>\n",
       "      <td>-0.230504</td>\n",
       "      <td>0.047209</td>\n",
       "      <td>-0.005922</td>\n",
       "      <td>0.173234</td>\n",
       "      <td>-0.039828</td>\n",
       "      <td>0.012307</td>\n",
       "      <td>0.688955</td>\n",
       "      <td>-0.141635</td>\n",
       "      <td>-0.025818</td>\n",
       "      <td>...</td>\n",
       "      <td>0.001641</td>\n",
       "      <td>-0.014328</td>\n",
       "      <td>0.012194</td>\n",
       "      <td>0.044328</td>\n",
       "      <td>1.000000</td>\n",
       "      <td>-0.008869</td>\n",
       "      <td>0.003032</td>\n",
       "      <td>0.622955</td>\n",
       "      <td>0.368966</td>\n",
       "      <td>0.457508</td>\n",
       "    </tr>\n",
       "    <tr>\n",
       "      <th>TrainingTimesLastYear</th>\n",
       "      <td>-0.012535</td>\n",
       "      <td>-0.066523</td>\n",
       "      <td>0.018380</td>\n",
       "      <td>0.042130</td>\n",
       "      <td>-0.018896</td>\n",
       "      <td>-0.034321</td>\n",
       "      <td>-0.032899</td>\n",
       "      <td>-0.007359</td>\n",
       "      <td>0.001582</td>\n",
       "      <td>-0.020940</td>\n",
       "      <td>...</td>\n",
       "      <td>-0.066172</td>\n",
       "      <td>-0.006647</td>\n",
       "      <td>-0.017508</td>\n",
       "      <td>0.018946</td>\n",
       "      <td>-0.008869</td>\n",
       "      <td>1.000000</td>\n",
       "      <td>0.029682</td>\n",
       "      <td>0.006110</td>\n",
       "      <td>0.003129</td>\n",
       "      <td>-0.023757</td>\n",
       "    </tr>\n",
       "    <tr>\n",
       "      <th>WorkLifeBalance</th>\n",
       "      <td>-0.021490</td>\n",
       "      <td>-0.063939</td>\n",
       "      <td>-0.011256</td>\n",
       "      <td>0.026383</td>\n",
       "      <td>0.009819</td>\n",
       "      <td>-0.002753</td>\n",
       "      <td>-0.014617</td>\n",
       "      <td>0.037818</td>\n",
       "      <td>0.027764</td>\n",
       "      <td>-0.019459</td>\n",
       "      <td>...</td>\n",
       "      <td>-0.027092</td>\n",
       "      <td>-0.003280</td>\n",
       "      <td>0.002572</td>\n",
       "      <td>0.004129</td>\n",
       "      <td>0.003032</td>\n",
       "      <td>0.029682</td>\n",
       "      <td>1.000000</td>\n",
       "      <td>0.011326</td>\n",
       "      <td>0.009927</td>\n",
       "      <td>-0.015858</td>\n",
       "    </tr>\n",
       "    <tr>\n",
       "      <th>YearsAtCompany</th>\n",
       "      <td>0.291655</td>\n",
       "      <td>-0.178602</td>\n",
       "      <td>-0.010077</td>\n",
       "      <td>0.019240</td>\n",
       "      <td>0.065393</td>\n",
       "      <td>-0.039305</td>\n",
       "      <td>-0.000121</td>\n",
       "      <td>0.494399</td>\n",
       "      <td>-0.075894</td>\n",
       "      <td>0.004268</td>\n",
       "      <td>...</td>\n",
       "      <td>-0.024793</td>\n",
       "      <td>-0.038523</td>\n",
       "      <td>0.008017</td>\n",
       "      <td>0.034628</td>\n",
       "      <td>0.622955</td>\n",
       "      <td>0.006110</td>\n",
       "      <td>0.011326</td>\n",
       "      <td>1.000000</td>\n",
       "      <td>0.582498</td>\n",
       "      <td>0.721465</td>\n",
       "    </tr>\n",
       "    <tr>\n",
       "      <th>YearsSinceLastPromotion</th>\n",
       "      <td>0.196728</td>\n",
       "      <td>-0.049097</td>\n",
       "      <td>-0.031610</td>\n",
       "      <td>0.027731</td>\n",
       "      <td>0.040684</td>\n",
       "      <td>-0.027172</td>\n",
       "      <td>-0.015781</td>\n",
       "      <td>0.316835</td>\n",
       "      <td>-0.034519</td>\n",
       "      <td>-0.004381</td>\n",
       "      <td>...</td>\n",
       "      <td>-0.016619</td>\n",
       "      <td>-0.035002</td>\n",
       "      <td>0.002344</td>\n",
       "      <td>0.015543</td>\n",
       "      <td>0.368966</td>\n",
       "      <td>0.003129</td>\n",
       "      <td>0.009927</td>\n",
       "      <td>0.582498</td>\n",
       "      <td>1.000000</td>\n",
       "      <td>0.454523</td>\n",
       "    </tr>\n",
       "    <tr>\n",
       "      <th>YearsWithCurrManager</th>\n",
       "      <td>0.144536</td>\n",
       "      <td>-0.208497</td>\n",
       "      <td>-0.004286</td>\n",
       "      <td>0.010882</td>\n",
       "      <td>0.042731</td>\n",
       "      <td>-0.019117</td>\n",
       "      <td>0.066413</td>\n",
       "      <td>0.260855</td>\n",
       "      <td>-0.022152</td>\n",
       "      <td>-0.007260</td>\n",
       "      <td>...</td>\n",
       "      <td>-0.037701</td>\n",
       "      <td>-0.037208</td>\n",
       "      <td>-0.001328</td>\n",
       "      <td>0.041411</td>\n",
       "      <td>0.457508</td>\n",
       "      <td>-0.023757</td>\n",
       "      <td>-0.015858</td>\n",
       "      <td>0.721465</td>\n",
       "      <td>0.454523</td>\n",
       "      <td>1.000000</td>\n",
       "    </tr>\n",
       "  </tbody>\n",
       "</table>\n",
       "<p>22 rows × 22 columns</p>\n",
       "</div>"
      ],
      "text/plain": [
       "                              Age  Attrition  BusinessTravel  Department  \\\n",
       "Age                      1.000000  -0.159205        0.024751   -0.031882   \n",
       "Attrition               -0.159205   1.000000        0.000074    0.063991   \n",
       "BusinessTravel           0.024751   0.000074        1.000000   -0.009044   \n",
       "Department              -0.031882   0.063991       -0.009044    1.000000   \n",
       "Education                0.208034  -0.031373        0.000757    0.007996   \n",
       "Gender                  -0.036311   0.029453       -0.032981   -0.041583   \n",
       "JobInvolvement           0.029820  -0.130016        0.039062   -0.024586   \n",
       "JobLevel                 0.509604  -0.169105        0.019311    0.101963   \n",
       "JobRole                 -0.122427   0.067151        0.002724    0.662431   \n",
       "JobSatisfaction         -0.004892  -0.103481       -0.033962    0.021001   \n",
       "MaritalStatus           -0.095029   0.162070        0.024001    0.056073   \n",
       "MonthlyIncome            0.497855  -0.159840        0.034319    0.053130   \n",
       "OverTime                 0.028062   0.246118        0.016543    0.007481   \n",
       "PercentSalaryHike        0.003634  -0.013478       -0.029377   -0.007840   \n",
       "PerformanceRating        0.001904   0.002889       -0.026341   -0.024604   \n",
       "StockOptionLevel         0.037510  -0.137145       -0.016727   -0.012193   \n",
       "TotalWorkingYears        0.649891  -0.230504        0.047209   -0.005922   \n",
       "TrainingTimesLastYear   -0.012535  -0.066523        0.018380    0.042130   \n",
       "WorkLifeBalance         -0.021490  -0.063939       -0.011256    0.026383   \n",
       "YearsAtCompany           0.291655  -0.178602       -0.010077    0.019240   \n",
       "YearsSinceLastPromotion  0.196728  -0.049097       -0.031610    0.027731   \n",
       "YearsWithCurrManager     0.144536  -0.208497       -0.004286    0.010882   \n",
       "\n",
       "                         Education    Gender  JobInvolvement  JobLevel  \\\n",
       "Age                       0.208034 -0.036311        0.029820  0.509604   \n",
       "Attrition                -0.031373  0.029453       -0.130016 -0.169105   \n",
       "BusinessTravel            0.000757 -0.032981        0.039062  0.019311   \n",
       "Department                0.007996 -0.041583       -0.024586  0.101963   \n",
       "Education                 1.000000 -0.016547        0.042438  0.101589   \n",
       "Gender                   -0.016547  1.000000        0.017960 -0.039403   \n",
       "JobInvolvement            0.042438  0.017960        1.000000 -0.012630   \n",
       "JobLevel                  0.101589 -0.039403       -0.012630  1.000000   \n",
       "JobRole                   0.004236 -0.039723        0.006616 -0.085457   \n",
       "JobSatisfaction          -0.011296  0.033252       -0.021476 -0.001944   \n",
       "MaritalStatus             0.004053 -0.047183       -0.038497 -0.076769   \n",
       "MonthlyIncome             0.094961 -0.031858       -0.015271  0.950300   \n",
       "OverTime                 -0.020322 -0.041924       -0.003507  0.000544   \n",
       "PercentSalaryHike        -0.011111  0.002733       -0.017205 -0.034730   \n",
       "PerformanceRating        -0.024539 -0.013859       -0.029071 -0.021222   \n",
       "StockOptionLevel          0.018422  0.012716        0.021523  0.013984   \n",
       "TotalWorkingYears         0.173234 -0.039828        0.012307  0.688955   \n",
       "TrainingTimesLastYear    -0.018896 -0.034321       -0.032899 -0.007359   \n",
       "WorkLifeBalance           0.009819 -0.002753       -0.014617  0.037818   \n",
       "YearsAtCompany            0.065393 -0.039305       -0.000121  0.494399   \n",
       "YearsSinceLastPromotion   0.040684 -0.027172       -0.015781  0.316835   \n",
       "YearsWithCurrManager      0.042731 -0.019117        0.066413  0.260855   \n",
       "\n",
       "                          JobRole  JobSatisfaction  ...  OverTime  \\\n",
       "Age                     -0.122427        -0.004892  ...  0.028062   \n",
       "Attrition                0.067151        -0.103481  ...  0.246118   \n",
       "BusinessTravel           0.002724        -0.033962  ...  0.016543   \n",
       "Department               0.662431         0.021001  ...  0.007481   \n",
       "Education                0.004236        -0.011296  ... -0.020322   \n",
       "Gender                  -0.039723         0.033252  ... -0.041924   \n",
       "JobInvolvement           0.006616        -0.021476  ... -0.003507   \n",
       "JobLevel                -0.085457        -0.001944  ...  0.000544   \n",
       "JobRole                  1.000000         0.017537  ...  0.040662   \n",
       "JobSatisfaction          0.017537         1.000000  ...  0.024539   \n",
       "MaritalStatus            0.067957         0.024360  ... -0.017521   \n",
       "MonthlyIncome           -0.093951        -0.007157  ...  0.006089   \n",
       "OverTime                 0.040662         0.024539  ...  1.000000   \n",
       "PercentSalaryHike       -0.000848         0.020002  ... -0.005433   \n",
       "PerformanceRating       -0.024233         0.002297  ...  0.004369   \n",
       "StockOptionLevel        -0.019171         0.010690  ... -0.000449   \n",
       "TotalWorkingYears       -0.141635        -0.025818  ...  0.001641   \n",
       "TrainingTimesLastYear    0.001582        -0.020940  ... -0.066172   \n",
       "WorkLifeBalance          0.027764        -0.019459  ... -0.027092   \n",
       "YearsAtCompany          -0.075894         0.004268  ... -0.024793   \n",
       "YearsSinceLastPromotion -0.034519        -0.004381  ... -0.016619   \n",
       "YearsWithCurrManager    -0.022152        -0.007260  ... -0.037701   \n",
       "\n",
       "                         PercentSalaryHike  PerformanceRating  \\\n",
       "Age                               0.003634           0.001904   \n",
       "Attrition                        -0.013478           0.002889   \n",
       "BusinessTravel                   -0.029377          -0.026341   \n",
       "Department                       -0.007840          -0.024604   \n",
       "Education                        -0.011111          -0.024539   \n",
       "Gender                            0.002733          -0.013859   \n",
       "JobInvolvement                   -0.017205          -0.029071   \n",
       "JobLevel                         -0.034730          -0.021222   \n",
       "JobRole                          -0.000848          -0.024233   \n",
       "JobSatisfaction                   0.020002           0.002297   \n",
       "MaritalStatus                     0.012492           0.005207   \n",
       "MonthlyIncome                    -0.027269          -0.017120   \n",
       "OverTime                         -0.005433           0.004369   \n",
       "PercentSalaryHike                 1.000000           0.773550   \n",
       "PerformanceRating                 0.773550           1.000000   \n",
       "StockOptionLevel                  0.007528           0.003506   \n",
       "TotalWorkingYears                -0.014328           0.012194   \n",
       "TrainingTimesLastYear            -0.006647          -0.017508   \n",
       "WorkLifeBalance                  -0.003280           0.002572   \n",
       "YearsAtCompany                   -0.038523           0.008017   \n",
       "YearsSinceLastPromotion          -0.035002           0.002344   \n",
       "YearsWithCurrManager             -0.037208          -0.001328   \n",
       "\n",
       "                         StockOptionLevel  TotalWorkingYears  \\\n",
       "Age                              0.037510           0.649891   \n",
       "Attrition                       -0.137145          -0.230504   \n",
       "BusinessTravel                  -0.016727           0.047209   \n",
       "Department                      -0.012193          -0.005922   \n",
       "Education                        0.018422           0.173234   \n",
       "Gender                           0.012716          -0.039828   \n",
       "JobInvolvement                   0.021523           0.012307   \n",
       "JobLevel                         0.013984           0.688955   \n",
       "JobRole                         -0.019171          -0.141635   \n",
       "JobSatisfaction                  0.010690          -0.025818   \n",
       "MaritalStatus                   -0.662577          -0.109626   \n",
       "MonthlyIncome                    0.005408           0.668166   \n",
       "OverTime                        -0.000449           0.001641   \n",
       "PercentSalaryHike                0.007528          -0.014328   \n",
       "PerformanceRating                0.003506           0.012194   \n",
       "StockOptionLevel                 1.000000           0.044328   \n",
       "TotalWorkingYears                0.044328           1.000000   \n",
       "TrainingTimesLastYear            0.018946          -0.008869   \n",
       "WorkLifeBalance                  0.004129           0.003032   \n",
       "YearsAtCompany                   0.034628           0.622955   \n",
       "YearsSinceLastPromotion          0.015543           0.368966   \n",
       "YearsWithCurrManager             0.041411           0.457508   \n",
       "\n",
       "                         TrainingTimesLastYear  WorkLifeBalance  \\\n",
       "Age                                  -0.012535        -0.021490   \n",
       "Attrition                            -0.066523        -0.063939   \n",
       "BusinessTravel                        0.018380        -0.011256   \n",
       "Department                            0.042130         0.026383   \n",
       "Education                            -0.018896         0.009819   \n",
       "Gender                               -0.034321        -0.002753   \n",
       "JobInvolvement                       -0.032899        -0.014617   \n",
       "JobLevel                             -0.007359         0.037818   \n",
       "JobRole                               0.001582         0.027764   \n",
       "JobSatisfaction                      -0.020940        -0.019459   \n",
       "MaritalStatus                         0.009185         0.014708   \n",
       "MonthlyIncome                        -0.013314         0.030683   \n",
       "OverTime                             -0.066172        -0.027092   \n",
       "PercentSalaryHike                    -0.006647        -0.003280   \n",
       "PerformanceRating                    -0.017508         0.002572   \n",
       "StockOptionLevel                      0.018946         0.004129   \n",
       "TotalWorkingYears                    -0.008869         0.003032   \n",
       "TrainingTimesLastYear                 1.000000         0.029682   \n",
       "WorkLifeBalance                       0.029682         1.000000   \n",
       "YearsAtCompany                        0.006110         0.011326   \n",
       "YearsSinceLastPromotion               0.003129         0.009927   \n",
       "YearsWithCurrManager                 -0.023757        -0.015858   \n",
       "\n",
       "                         YearsAtCompany  YearsSinceLastPromotion  \\\n",
       "Age                            0.291655                 0.196728   \n",
       "Attrition                     -0.178602                -0.049097   \n",
       "BusinessTravel                -0.010077                -0.031610   \n",
       "Department                     0.019240                 0.027731   \n",
       "Education                      0.065393                 0.040684   \n",
       "Gender                        -0.039305                -0.027172   \n",
       "JobInvolvement                -0.000121                -0.015781   \n",
       "JobLevel                       0.494399                 0.316835   \n",
       "JobRole                       -0.075894                -0.034519   \n",
       "JobSatisfaction                0.004268                -0.004381   \n",
       "MaritalStatus                 -0.078766                -0.021491   \n",
       "MonthlyIncome                  0.469905                 0.309479   \n",
       "OverTime                      -0.024793                -0.016619   \n",
       "PercentSalaryHike             -0.038523                -0.035002   \n",
       "PerformanceRating              0.008017                 0.002344   \n",
       "StockOptionLevel               0.034628                 0.015543   \n",
       "TotalWorkingYears              0.622955                 0.368966   \n",
       "TrainingTimesLastYear          0.006110                 0.003129   \n",
       "WorkLifeBalance                0.011326                 0.009927   \n",
       "YearsAtCompany                 1.000000                 0.582498   \n",
       "YearsSinceLastPromotion        0.582498                 1.000000   \n",
       "YearsWithCurrManager           0.721465                 0.454523   \n",
       "\n",
       "                         YearsWithCurrManager  \n",
       "Age                                  0.144536  \n",
       "Attrition                           -0.208497  \n",
       "BusinessTravel                      -0.004286  \n",
       "Department                           0.010882  \n",
       "Education                            0.042731  \n",
       "Gender                              -0.019117  \n",
       "JobInvolvement                       0.066413  \n",
       "JobLevel                             0.260855  \n",
       "JobRole                             -0.022152  \n",
       "JobSatisfaction                     -0.007260  \n",
       "MaritalStatus                       -0.048057  \n",
       "MonthlyIncome                        0.240468  \n",
       "OverTime                            -0.037701  \n",
       "PercentSalaryHike                   -0.037208  \n",
       "PerformanceRating                   -0.001328  \n",
       "StockOptionLevel                     0.041411  \n",
       "TotalWorkingYears                    0.457508  \n",
       "TrainingTimesLastYear               -0.023757  \n",
       "WorkLifeBalance                     -0.015858  \n",
       "YearsAtCompany                       0.721465  \n",
       "YearsSinceLastPromotion              0.454523  \n",
       "YearsWithCurrManager                 1.000000  \n",
       "\n",
       "[22 rows x 22 columns]"
      ]
     },
     "execution_count": 351,
     "metadata": {},
     "output_type": "execute_result"
    }
   ],
   "source": [
    "df.corr()"
   ]
  },
  {
   "cell_type": "code",
   "execution_count": 353,
   "id": "ce8916a0",
   "metadata": {},
   "outputs": [
    {
     "data": {
      "text/plain": [
       "<AxesSubplot:>"
      ]
     },
     "execution_count": 353,
     "metadata": {},
     "output_type": "execute_result"
    },
    {
     "data": {
      "image/png": "[encoded data removed]",
      "text/plain": [
       "<Figure size 1440x576 with 2 Axes>"
      ]
     },
     "metadata": {
      "needs_background": "light"
     },
     "output_type": "display_data"
    }
   ],
   "source": [
    "plt.figure(figsize=(20,8))\n",
    "sns.heatmap(df.corr(),annot=True)"
   ]
  },
  {
   "cell_type": "code",
   "execution_count": 354,
   "id": "a6b9f527",
   "metadata": {},
   "outputs": [],
   "source": [
    "x=df.drop('Attrition',axis=1)\n",
    "y=df['Attrition']"
   ]
  },
  {
   "cell_type": "code",
   "execution_count": 357,
   "id": "fe59b900",
   "metadata": {},
   "outputs": [],
   "source": [
    "from sklearn.preprocessing import StandardScaler\n",
    "sc=StandardScaler()\n",
    "x_scaled=sc.fit_transform(x)"
   ]
  },
  {
   "cell_type": "code",
   "execution_count": 359,
   "id": "f2e1f2f1",
   "metadata": {},
   "outputs": [],
   "source": [
    "from imblearn.over_sampling import SMOTE\n",
    "smt=SMOTE()\n",
    "x,y=smt.fit_resample(x_scaled,y)"
   ]
  },
  {
   "cell_type": "code",
   "execution_count": 360,
   "id": "4ccb392d",
   "metadata": {},
   "outputs": [
    {
     "data": {
      "text/plain": [
       "0    1233\n",
       "1    1233\n",
       "Name: Attrition, dtype: int64"
      ]
     },
     "execution_count": 360,
     "metadata": {},
     "output_type": "execute_result"
    }
   ],
   "source": [
    "y.value_counts()"
   ]
  },
  {
   "cell_type": "code",
   "execution_count": 361,
   "id": "fee38a68",
   "metadata": {},
   "outputs": [
    {
     "name": "stdout",
     "output_type": "stream",
     "text": [
      "Best score: 0.805668016194332\n",
      "Random State: 944\n"
     ]
    }
   ],
   "source": [
    "from sklearn.linear_model import LogisticRegression\n",
    "from sklearn.model_selection import train_test_split\n",
    "from sklearn.metrics import accuracy_score,classification_report,confusion_matrix\n",
    "lr=LogisticRegression()\n",
    "macc=0\n",
    "rs=0\n",
    "for i in range(1000):\n",
    "    x_train,x_test,y_train,y_test=train_test_split(x,y,test_size=0.2,random_state=i)\n",
    "    lr.fit(x_train,y_train)\n",
    "    pred=lr.predict(x_test)\n",
    "    ac=accuracy_score(y_test,pred)\n",
    "    if ac>macc:\n",
    "        macc=ac\n",
    "        rs=i\n",
    "print('Best score:',macc)\n",
    "print('Random State:',rs)"
   ]
  },
  {
   "cell_type": "code",
   "execution_count": 362,
   "id": "ef2c7b2e",
   "metadata": {},
   "outputs": [],
   "source": [
    "x_train,x_test,y_train,y_test=train_test_split(x,y,test_size=0.2,random_state=944)"
   ]
  },
  {
   "cell_type": "code",
   "execution_count": 363,
   "id": "bef2fba5",
   "metadata": {},
   "outputs": [],
   "source": [
    "from sklearn.tree import DecisionTreeClassifier\n",
    "from sklearn.svm import SVC\n",
    "from sklearn.neighbors import KNeighborsClassifier\n",
    "from sklearn.naive_bayes import MultinomialNB\n",
    "from sklearn.ensemble import RandomForestClassifier"
   ]
  },
  {
   "cell_type": "code",
   "execution_count": 364,
   "id": "0dc9be93",
   "metadata": {},
   "outputs": [
    {
     "name": "stdout",
     "output_type": "stream",
     "text": [
      "LogisticRegression():\n",
      "Accuracy score: 0.805668016194332\n",
      "Confusion Matrix:\n",
      " [[200  55]\n",
      " [ 41 198]]\n",
      "Classification Report:\n",
      "               precision    recall  f1-score   support\n",
      "\n",
      "           0       0.83      0.78      0.81       255\n",
      "           1       0.78      0.83      0.80       239\n",
      "\n",
      "    accuracy                           0.81       494\n",
      "   macro avg       0.81      0.81      0.81       494\n",
      "weighted avg       0.81      0.81      0.81       494\n",
      "\n",
      "\n",
      "\n",
      "DecisionTreeClassifier():\n",
      "Accuracy score: 0.8704453441295547\n",
      "Confusion Matrix:\n",
      " [[214  41]\n",
      " [ 23 216]]\n",
      "Classification Report:\n",
      "               precision    recall  f1-score   support\n",
      "\n",
      "           0       0.90      0.84      0.87       255\n",
      "           1       0.84      0.90      0.87       239\n",
      "\n",
      "    accuracy                           0.87       494\n",
      "   macro avg       0.87      0.87      0.87       494\n",
      "weighted avg       0.87      0.87      0.87       494\n",
      "\n",
      "\n",
      "\n",
      "SVC():\n",
      "Accuracy score: 0.9008097165991903\n",
      "Confusion Matrix:\n",
      " [[218  37]\n",
      " [ 12 227]]\n",
      "Classification Report:\n",
      "               precision    recall  f1-score   support\n",
      "\n",
      "           0       0.95      0.85      0.90       255\n",
      "           1       0.86      0.95      0.90       239\n",
      "\n",
      "    accuracy                           0.90       494\n",
      "   macro avg       0.90      0.90      0.90       494\n",
      "weighted avg       0.91      0.90      0.90       494\n",
      "\n",
      "\n",
      "\n",
      "KNeighborsClassifier():\n",
      "Accuracy score: 0.8380566801619433\n",
      "Confusion Matrix:\n",
      " [[176  79]\n",
      " [  1 238]]\n",
      "Classification Report:\n",
      "               precision    recall  f1-score   support\n",
      "\n",
      "           0       0.99      0.69      0.81       255\n",
      "           1       0.75      1.00      0.86       239\n",
      "\n",
      "    accuracy                           0.84       494\n",
      "   macro avg       0.87      0.84      0.84       494\n",
      "weighted avg       0.88      0.84      0.83       494\n",
      "\n",
      "\n",
      "\n",
      "RandomForestClassifier():\n",
      "Accuracy score: 0.9352226720647774\n",
      "Confusion Matrix:\n",
      " [[241  14]\n",
      " [ 18 221]]\n",
      "Classification Report:\n",
      "               precision    recall  f1-score   support\n",
      "\n",
      "           0       0.93      0.95      0.94       255\n",
      "           1       0.94      0.92      0.93       239\n",
      "\n",
      "    accuracy                           0.94       494\n",
      "   macro avg       0.94      0.93      0.94       494\n",
      "weighted avg       0.94      0.94      0.94       494\n",
      "\n",
      "\n",
      "\n"
     ]
    }
   ],
   "source": [
    "models=[LogisticRegression(),DecisionTreeClassifier(),SVC(),KNeighborsClassifier(),RandomForestClassifier()]\n",
    "for m in models:\n",
    "    m.fit(x_train,y_train)\n",
    "    predm=m.predict(x_test)\n",
    "    print(f'{m}:')\n",
    "    print('Accuracy score:',accuracy_score(y_test,predm))\n",
    "    print('Confusion Matrix:\\n',confusion_matrix(y_test,predm))\n",
    "    print('Classification Report:\\n',classification_report(y_test,predm))\n",
    "    print('\\n')"
   ]
  },
  {
   "cell_type": "code",
   "execution_count": 366,
   "id": "59d39d6d",
   "metadata": {},
   "outputs": [
    {
     "name": "stdout",
     "output_type": "stream",
     "text": [
      "cvscore of LogisticRegression():\n",
      "Mean cv score: 0.7510088608946301\n",
      "Std: 0.009409326980560337\n",
      "\n",
      "\n",
      "cvscore of DecisionTreeClassifier():\n",
      "Mean cv score: 0.8483826198355932\n",
      "Std: 0.05721233876109602\n",
      "\n",
      "\n",
      "cvscore of SVC():\n",
      "Mean cv score: 0.8767268068752003\n",
      "Std: 0.009757776671864577\n",
      "\n",
      "\n",
      "cvscore of KNeighborsClassifier():\n",
      "Mean cv score: 0.8296917985398823\n",
      "Std: 0.01491177952124514\n",
      "\n",
      "\n",
      "cvscore of RandomForestClassifier():\n",
      "Mean cv score: 0.9290939550467682\n",
      "Std: 0.07295944582979778\n",
      "\n",
      "\n"
     ]
    }
   ],
   "source": [
    "from sklearn.model_selection import cross_val_score\n",
    "for m in models:\n",
    "    cvscore=cross_val_score(m,x,y,cv=5)\n",
    "    print(f'cvscore of {m}:')\n",
    "    print('Mean cv score:',cvscore.mean())\n",
    "    print('Std:',cvscore.std())\n",
    "    print('\\n')"
   ]
  },
  {
   "cell_type": "code",
   "execution_count": 368,
   "id": "b4d85260",
   "metadata": {},
   "outputs": [
    {
     "name": "stdout",
     "output_type": "stream",
     "text": [
      "Fitting 2 folds for each of 81 candidates, totalling 162 fits\n",
      "score:  0.9011156186612577\n",
      "best estimators: RandomForestClassifier(max_depth=50)\n",
      "best parameters: {'max_depth': 50, 'min_samples_leaf': 1, 'min_samples_split': 2, 'n_estimators': 100}\n"
     ]
    }
   ],
   "source": [
    "from sklearn.model_selection import GridSearchCV\n",
    "par={'n_estimators':[100,200,500],'max_depth':[10,20,50],\n",
    "    'min_samples_leaf':[1,2,3],'min_samples_split':[2,5,10]}\n",
    "grid=GridSearchCV(RandomForestClassifier(),param_grid=par,cv=2,verbose=True)\n",
    "grid.fit(x_train,y_train)\n",
    "print('score: ',grid.best_score_)\n",
    "print('best estimators:',grid.best_estimator_)\n",
    "print('best parameters:',grid.best_params_)"
   ]
  },
  {
   "cell_type": "code",
   "execution_count": 369,
   "id": "82dc1e19",
   "metadata": {},
   "outputs": [
    {
     "name": "stdout",
     "output_type": "stream",
     "text": [
      "Accuracy score: 0.9473684210526315\n",
      "Confusion Matrix:\n",
      " [[246   9]\n",
      " [ 17 222]]\n",
      "Classification Report:\n",
      "               precision    recall  f1-score   support\n",
      "\n",
      "           0       0.94      0.96      0.95       255\n",
      "           1       0.96      0.93      0.94       239\n",
      "\n",
      "    accuracy                           0.95       494\n",
      "   macro avg       0.95      0.95      0.95       494\n",
      "weighted avg       0.95      0.95      0.95       494\n",
      "\n"
     ]
    }
   ],
   "source": [
    "rf=RandomForestClassifier(n_estimators=200,max_depth=500,max_features='auto',min_samples_leaf=1,min_samples_split=2,criterion='entropy')\n",
    "rf.fit(x_train,y_train)\n",
    "pred=rf.predict(x_test)\n",
    "print('Accuracy score:',accuracy_score(y_test,pred))\n",
    "print('Confusion Matrix:\\n',confusion_matrix(y_test,pred))\n",
    "print('Classification Report:\\n',classification_report(y_test,pred))"
   ]
  },
  {
   "cell_type": "code",
   "execution_count": 371,
   "id": "8b5716ca",
   "metadata": {},
   "outputs": [
    {
     "data": {
      "text/plain": [
       "array([0.105, 0.085, 0.1  , 0.955, 0.955, 0.945, 0.745, 0.965, 0.21 ,\n",
       "       0.84 , 0.32 , 0.85 , 0.295, 0.425, 0.13 , 0.435, 0.96 , 0.915,\n",
       "       0.935, 0.08 , 0.235, 0.65 , 0.785, 0.91 , 0.995, 0.11 , 0.17 ,\n",
       "       0.905, 0.075, 0.935, 0.285, 0.655, 0.105, 0.115, 0.82 , 0.97 ,\n",
       "       0.975, 0.795, 0.23 , 0.955, 0.16 , 0.545, 0.07 , 0.955, 0.765,\n",
       "       0.155, 0.07 , 0.975, 0.13 , 0.86 , 0.245, 0.67 , 0.33 , 0.925,\n",
       "       0.06 , 0.745, 0.03 , 0.16 , 0.935, 0.99 , 0.05 , 0.985, 0.075,\n",
       "       0.165, 0.98 , 0.975, 0.09 , 0.105, 0.815, 0.135, 0.34 , 0.055,\n",
       "       0.5  , 0.17 , 0.285, 0.055, 0.96 , 0.32 , 0.02 , 0.85 , 0.235,\n",
       "       0.135, 0.895, 0.055, 0.84 , 0.705, 0.965, 0.04 , 0.93 , 0.41 ,\n",
       "       0.495, 0.865, 0.155, 0.87 , 0.855, 0.91 , 0.675, 0.08 , 0.205,\n",
       "       0.91 , 0.235, 1.   , 0.955, 0.98 , 1.   , 0.105, 0.115, 0.06 ,\n",
       "       0.08 , 0.6  , 0.205, 0.125, 0.115, 0.025, 0.995, 0.89 , 0.08 ,\n",
       "       0.065, 0.04 , 0.94 , 0.89 , 0.935, 0.18 , 0.5  , 0.43 , 0.11 ,\n",
       "       0.98 , 0.925, 0.3  , 0.97 , 0.27 , 0.275, 0.15 , 0.11 , 0.81 ,\n",
       "       0.995, 0.745, 0.115, 0.085, 0.875, 0.89 , 0.295, 0.25 , 0.92 ,\n",
       "       0.875, 0.045, 0.075, 0.26 , 0.87 , 0.865, 0.635, 0.13 , 0.975,\n",
       "       0.865, 0.205, 0.285, 0.96 , 0.97 , 0.665, 0.245, 0.195, 0.955,\n",
       "       0.985, 0.875, 0.06 , 0.945, 0.12 , 0.37 , 0.705, 0.05 , 0.31 ,\n",
       "       0.98 , 0.455, 0.18 , 0.405, 0.55 , 0.02 , 0.045, 0.11 , 0.05 ,\n",
       "       0.96 , 0.245, 0.11 , 0.885, 0.07 , 0.1  , 0.075, 0.93 , 0.315,\n",
       "       0.445, 0.17 , 0.985, 0.285, 0.99 , 0.045, 0.075, 0.1  , 0.185,\n",
       "       0.95 , 0.14 , 0.07 , 0.25 , 0.375, 0.265, 0.945, 0.925, 0.82 ,\n",
       "       0.845, 0.995, 0.03 , 0.92 , 0.945, 0.14 , 0.12 , 0.955, 0.405,\n",
       "       0.355, 0.495, 0.12 , 0.125, 0.2  , 0.935, 0.49 , 1.   , 0.825,\n",
       "       0.415, 0.775, 0.815, 0.95 , 0.695, 0.96 , 0.92 , 0.065, 0.975,\n",
       "       0.27 , 0.075, 0.97 , 0.72 , 0.585, 0.275, 0.845, 0.18 , 0.515,\n",
       "       0.11 , 0.99 , 0.865, 0.185, 0.31 , 0.96 , 0.47 , 0.85 , 0.615,\n",
       "       0.98 , 0.995, 0.925, 0.98 , 0.93 , 0.97 , 0.2  , 0.275, 0.25 ,\n",
       "       0.96 , 0.735, 0.88 , 0.08 , 0.11 , 0.165, 0.825, 0.13 , 0.275,\n",
       "       0.975, 0.185, 0.635, 1.   , 0.26 , 0.255, 0.155, 0.055, 0.135,\n",
       "       0.015, 0.75 , 0.885, 0.2  , 1.   , 0.215, 0.135, 0.295, 0.255,\n",
       "       0.98 , 0.725, 0.295, 0.905, 0.915, 0.125, 0.315, 0.96 , 0.97 ,\n",
       "       0.215, 0.19 , 0.905, 0.93 , 0.29 , 0.995, 0.915, 0.595, 0.14 ,\n",
       "       0.36 , 0.07 , 0.2  , 0.035, 0.935, 0.985, 0.76 , 0.075, 0.835,\n",
       "       0.24 , 0.715, 0.205, 0.905, 0.115, 0.085, 0.07 , 0.11 , 0.985,\n",
       "       0.09 , 0.89 , 0.985, 0.11 , 0.875, 0.095, 0.08 , 0.035, 0.935,\n",
       "       0.325, 0.95 , 0.945, 0.845, 0.41 , 0.155, 0.65 , 0.19 , 0.075,\n",
       "       0.93 , 0.255, 0.085, 0.125, 0.065, 0.94 , 0.1  , 0.995, 0.95 ,\n",
       "       0.09 , 0.28 , 0.085, 0.115, 0.105, 0.82 , 0.925, 0.575, 0.965,\n",
       "       0.25 , 0.96 , 0.905, 0.145, 0.295, 1.   , 0.045, 0.865, 0.87 ,\n",
       "       0.24 , 0.095, 0.84 , 0.605, 0.795, 0.12 , 0.145, 0.37 , 0.17 ,\n",
       "       0.16 , 0.945, 0.985, 0.68 , 0.22 , 0.96 , 0.16 , 0.98 , 0.14 ,\n",
       "       0.085, 0.235, 0.03 , 0.895, 0.115, 0.46 , 0.26 , 0.965, 0.82 ,\n",
       "       0.95 , 0.125, 0.115, 0.13 , 0.32 , 0.925, 0.315, 0.975, 0.915,\n",
       "       0.275, 0.055, 0.87 , 0.875, 0.97 , 0.985, 0.97 , 0.855, 0.955,\n",
       "       0.245, 0.135, 0.14 , 0.06 , 0.965, 0.3  , 0.705, 0.235, 0.465,\n",
       "       0.05 , 0.4  , 0.105, 0.225, 1.   , 0.665, 0.925, 0.205, 0.09 ,\n",
       "       0.195, 0.55 , 0.155, 0.375, 0.17 , 0.58 , 0.825, 0.105, 0.99 ,\n",
       "       0.885, 0.405, 0.21 , 0.08 , 0.93 , 0.71 , 1.   , 0.94 , 0.975,\n",
       "       0.945, 0.07 , 0.305, 0.995, 0.975, 0.89 , 0.9  , 0.7  , 0.04 ,\n",
       "       0.96 , 0.505, 0.1  , 0.13 , 0.935, 0.96 , 0.895, 0.07 , 0.925,\n",
       "       0.915, 0.05 , 0.05 , 0.105, 0.175, 0.97 , 0.885, 0.985, 0.205,\n",
       "       0.07 , 0.72 , 0.99 , 0.975, 0.11 , 0.085, 0.125, 0.08 , 0.15 ,\n",
       "       0.2  , 0.115, 0.05 , 0.23 , 0.04 , 0.55 , 1.   , 0.09 ])"
      ]
     },
     "execution_count": 371,
     "metadata": {},
     "output_type": "execute_result"
    }
   ],
   "source": [
    "from sklearn.metrics import roc_auc_score\n",
    "y_pred_prob=rf.predict_proba(x_test)[:,1]\n",
    "y_pred_prob"
   ]
  },
  {
   "cell_type": "code",
   "execution_count": 372,
   "id": "29a9cce3",
   "metadata": {},
   "outputs": [
    {
     "data": {
      "image/png": "[encoded data removed]",
      "text/plain": [
       "<Figure size 432x288 with 1 Axes>"
      ]
     },
     "metadata": {
      "needs_background": "light"
     },
     "output_type": "display_data"
    },
    {
     "name": "stdout",
     "output_type": "stream",
     "text": [
      "Score: 0.9467880876199851\n"
     ]
    }
   ],
   "source": [
    "from sklearn.metrics import roc_curve\n",
    "fpr,tpr,thresholds=roc_curve(y_test,y_pred_prob)\n",
    "plt.plot([0,1],[0,1],'k--')\n",
    "plt.plot(fpr,tpr,label='KNeighborsClassifier')\n",
    "plt.xlabel('False Positive Rate')\n",
    "plt.ylabel('True Positive Rate')\n",
    "plt.show()\n",
    "auc_score=roc_auc_score(y_test,rf.predict(x_test))\n",
    "print('Score:',auc_score)"
   ]
  },
  {
   "cell_type": "code",
   "execution_count": 373,
   "id": "fe04de24",
   "metadata": {},
   "outputs": [
    {
     "data": {
      "text/plain": [
       "['HR_Attrition.obj']"
      ]
     },
     "execution_count": 373,
     "metadata": {},
     "output_type": "execute_result"
    }
   ],
   "source": [
    "import joblib\n",
    "joblib.dump(rf,'HR_Attrition.obj')"
   ]
  },
  {
   "cell_type": "code",
   "execution_count": null,
   "id": "805167f6",
   "metadata": {},
   "outputs": [],
   "source": []
  }
 ],
 "metadata": {
  "kernelspec": {
   "display_name": "Python 3 (ipykernel)",
   "language": "python",
   "name": "python3"
  },
  "language_info": {
   "codemirror_mode": {
    "name": "ipython",
    "version": 3
   },
   "file_extension": ".py",
   "mimetype": "text/x-python",
   "name": "python",
   "nbconvert_exporter": "python",
   "pygments_lexer": "ipython3",
   "version": "3.9.7"
  }
 },
 "nbformat": 4,
 "nbformat_minor": 5
}
